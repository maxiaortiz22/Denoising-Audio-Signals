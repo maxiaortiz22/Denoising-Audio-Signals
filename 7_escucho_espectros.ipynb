{
 "metadata": {
  "language_info": {
   "codemirror_mode": {
    "name": "ipython",
    "version": 3
   },
   "file_extension": ".py",
   "mimetype": "text/x-python",
   "name": "python",
   "nbconvert_exporter": "python",
   "pygments_lexer": "ipython3",
   "version": "3.7.6"
  },
  "orig_nbformat": 2,
  "kernelspec": {
   "name": "python376jvsc74a57bd043ead9a4f129a837026f2fb3fada08cc5f38cb8b9e7cee4d9c3e8d1fdb03f054",
   "display_name": "Python 3.7.6 64-bit ('base': conda)"
  }
 },
 "nbformat": 4,
 "nbformat_minor": 2,
 "cells": [
  {
   "cell_type": "code",
   "execution_count": 1,
   "metadata": {},
   "outputs": [],
   "source": [
    "import pandas as pd\n",
    "import numpy as np\n",
    "import os\n",
    "import librosa"
   ]
  },
  {
   "cell_type": "code",
   "execution_count": 7,
   "metadata": {},
   "outputs": [
    {
     "output_type": "stream",
     "name": "stdout",
     "text": [
      "1048\ncommon_voice_es_18309707.mp3\n"
     ]
    }
   ],
   "source": [
    "import glob\n",
    "\n",
    "os.chdir(r'C:\\Users\\maxia\\Desktop\\Facultad\\Labo de acústica\\Codigo\\3_audios_test')\n",
    "\n",
    "audio_test = []\n",
    "\n",
    "for dir in glob.iglob('common*', recursive=True):\n",
    "    audio_test.append(dir.split('.npy')[0] + '.mp3')\n",
    "\n",
    "print(len(audio_test))\n",
    "print(audio_test[0])"
   ]
  },
  {
   "cell_type": "code",
   "execution_count": 5,
   "metadata": {},
   "outputs": [
    {
     "output_type": "execute_result",
     "data": {
      "text/plain": [
       "                                           client_id  \\\n",
       "0  0003b969350f5308dc7347c574bc291834f38fdd92a286...   \n",
       "1  009891ef9a0c11e1b21a9d8a8318c493382963c9eac3ab...   \n",
       "2  00b0a5cf01f152b2b6771f16e34118a1d95e29716e4c86...   \n",
       "3  00be171a195e0dc92ceeb79da60907dff8eefa30ce68ba...   \n",
       "4  00de0234aec2cb4d2268ef5b5ba1d72d84ce36fa032096...   \n",
       "\n",
       "                           path  \\\n",
       "0  common_voice_es_19698530.mp3   \n",
       "1  common_voice_es_19987333.mp3   \n",
       "2  common_voice_es_19691402.mp3   \n",
       "3  common_voice_es_22044222.mp3   \n",
       "4  common_voice_es_19966634.mp3   \n",
       "\n",
       "                                            sentence  up_votes  down_votes  \\\n",
       "0          Habita en aguas poco profundas y rocosas.         2           1   \n",
       "1  Opera principalmente vuelos de cabotaje y regi...         2           1   \n",
       "2   Para visitar contactar primero con la dirección.         2           0   \n",
       "3                                               tres         2           0   \n",
       "4  Realizó los estudios primarios en Francia, par...         2           1   \n",
       "\n",
       "        age gender    accent locale    segment  \n",
       "0  thirties   male  mexicano     es        NaN  \n",
       "1       NaN    NaN       NaN     es        NaN  \n",
       "2       NaN    NaN       NaN     es        NaN  \n",
       "3       NaN    NaN       NaN     es  Benchmark  \n",
       "4       NaN    NaN       NaN     es        NaN  "
      ],
      "text/html": "<div>\n<style scoped>\n    .dataframe tbody tr th:only-of-type {\n        vertical-align: middle;\n    }\n\n    .dataframe tbody tr th {\n        vertical-align: top;\n    }\n\n    .dataframe thead th {\n        text-align: right;\n    }\n</style>\n<table border=\"1\" class=\"dataframe\">\n  <thead>\n    <tr style=\"text-align: right;\">\n      <th></th>\n      <th>client_id</th>\n      <th>path</th>\n      <th>sentence</th>\n      <th>up_votes</th>\n      <th>down_votes</th>\n      <th>age</th>\n      <th>gender</th>\n      <th>accent</th>\n      <th>locale</th>\n      <th>segment</th>\n    </tr>\n  </thead>\n  <tbody>\n    <tr>\n      <th>0</th>\n      <td>0003b969350f5308dc7347c574bc291834f38fdd92a286...</td>\n      <td>common_voice_es_19698530.mp3</td>\n      <td>Habita en aguas poco profundas y rocosas.</td>\n      <td>2</td>\n      <td>1</td>\n      <td>thirties</td>\n      <td>male</td>\n      <td>mexicano</td>\n      <td>es</td>\n      <td>NaN</td>\n    </tr>\n    <tr>\n      <th>1</th>\n      <td>009891ef9a0c11e1b21a9d8a8318c493382963c9eac3ab...</td>\n      <td>common_voice_es_19987333.mp3</td>\n      <td>Opera principalmente vuelos de cabotaje y regi...</td>\n      <td>2</td>\n      <td>1</td>\n      <td>NaN</td>\n      <td>NaN</td>\n      <td>NaN</td>\n      <td>es</td>\n      <td>NaN</td>\n    </tr>\n    <tr>\n      <th>2</th>\n      <td>00b0a5cf01f152b2b6771f16e34118a1d95e29716e4c86...</td>\n      <td>common_voice_es_19691402.mp3</td>\n      <td>Para visitar contactar primero con la dirección.</td>\n      <td>2</td>\n      <td>0</td>\n      <td>NaN</td>\n      <td>NaN</td>\n      <td>NaN</td>\n      <td>es</td>\n      <td>NaN</td>\n    </tr>\n    <tr>\n      <th>3</th>\n      <td>00be171a195e0dc92ceeb79da60907dff8eefa30ce68ba...</td>\n      <td>common_voice_es_22044222.mp3</td>\n      <td>tres</td>\n      <td>2</td>\n      <td>0</td>\n      <td>NaN</td>\n      <td>NaN</td>\n      <td>NaN</td>\n      <td>es</td>\n      <td>Benchmark</td>\n    </tr>\n    <tr>\n      <th>4</th>\n      <td>00de0234aec2cb4d2268ef5b5ba1d72d84ce36fa032096...</td>\n      <td>common_voice_es_19966634.mp3</td>\n      <td>Realizó los estudios primarios en Francia, par...</td>\n      <td>2</td>\n      <td>1</td>\n      <td>NaN</td>\n      <td>NaN</td>\n      <td>NaN</td>\n      <td>es</td>\n      <td>NaN</td>\n    </tr>\n  </tbody>\n</table>\n</div>"
     },
     "metadata": {},
     "execution_count": 5
    }
   ],
   "source": [
    "os.chdir(r'C:\\Users\\maxia\\Desktop\\Facultad\\Labo de acústica\\Codigo')\n",
    "\n",
    "validados = pd.read_csv('validated.tsv', sep='\\t')\n",
    "validados.head()"
   ]
  },
  {
   "cell_type": "code",
   "execution_count": 9,
   "metadata": {},
   "outputs": [
    {
     "output_type": "execute_result",
     "data": {
      "text/plain": [
       "                           path\n",
       "0  common_voice_es_18309707.mp3\n",
       "1  common_voice_es_18309709.mp3\n",
       "2  common_voice_es_18309711.mp3\n",
       "3  common_voice_es_18330891.mp3\n",
       "4  common_voice_es_18369864.mp3"
      ],
      "text/html": "<div>\n<style scoped>\n    .dataframe tbody tr th:only-of-type {\n        vertical-align: middle;\n    }\n\n    .dataframe tbody tr th {\n        vertical-align: top;\n    }\n\n    .dataframe thead th {\n        text-align: right;\n    }\n</style>\n<table border=\"1\" class=\"dataframe\">\n  <thead>\n    <tr style=\"text-align: right;\">\n      <th></th>\n      <th>path</th>\n    </tr>\n  </thead>\n  <tbody>\n    <tr>\n      <th>0</th>\n      <td>common_voice_es_18309707.mp3</td>\n    </tr>\n    <tr>\n      <th>1</th>\n      <td>common_voice_es_18309709.mp3</td>\n    </tr>\n    <tr>\n      <th>2</th>\n      <td>common_voice_es_18309711.mp3</td>\n    </tr>\n    <tr>\n      <th>3</th>\n      <td>common_voice_es_18330891.mp3</td>\n    </tr>\n    <tr>\n      <th>4</th>\n      <td>common_voice_es_18369864.mp3</td>\n    </tr>\n  </tbody>\n</table>\n</div>"
     },
     "metadata": {},
     "execution_count": 9
    }
   ],
   "source": [
    "audios_test = pd.DataFrame({'path': audio_test})\n",
    "audios_test.head()"
   ]
  },
  {
   "cell_type": "code",
   "execution_count": 10,
   "metadata": {},
   "outputs": [
    {
     "output_type": "execute_result",
     "data": {
      "text/plain": [
       "                                           client_id  \\\n",
       "0  04735502177c9f39f7b682a94073171b2454de56336131...   \n",
       "1  1f8dda45bd7eb7a269c5afa64066cc58e1ed6a9a4f73f2...   \n",
       "2  2b8ff5ebdd3244d68d75e955f05f1a852ffbe7c5d6abda...   \n",
       "3  75e75a16bf18aed46da815ba370629a25297e70b95b916...   \n",
       "4  c5b6929016d3e6d2a298b1943ead26edf403ce8303999f...   \n",
       "\n",
       "                           path      sentence  up_votes  down_votes       age  \\\n",
       "0  common_voice_es_22000235.mp3            sí         2           1  twenties   \n",
       "1  common_voice_es_18825288.mp3  es Colombia.         2           1  twenties   \n",
       "2  common_voice_es_22043788.mp3            sí         2           0   fifties   \n",
       "3  common_voice_es_21988507.mp3         siete         3           0  thirties   \n",
       "4  common_voice_es_21964599.mp3           dos         2           1  twenties   \n",
       "\n",
       "  gender  accent locale    segment  \n",
       "0   male     NaN     es  Benchmark  \n",
       "1   male     NaN     es        NaN  \n",
       "2   male  caribe     es  Benchmark  \n",
       "3   male  andino     es  Benchmark  \n",
       "4   male     NaN     es  Benchmark  "
      ],
      "text/html": "<div>\n<style scoped>\n    .dataframe tbody tr th:only-of-type {\n        vertical-align: middle;\n    }\n\n    .dataframe tbody tr th {\n        vertical-align: top;\n    }\n\n    .dataframe thead th {\n        text-align: right;\n    }\n</style>\n<table border=\"1\" class=\"dataframe\">\n  <thead>\n    <tr style=\"text-align: right;\">\n      <th></th>\n      <th>client_id</th>\n      <th>path</th>\n      <th>sentence</th>\n      <th>up_votes</th>\n      <th>down_votes</th>\n      <th>age</th>\n      <th>gender</th>\n      <th>accent</th>\n      <th>locale</th>\n      <th>segment</th>\n    </tr>\n  </thead>\n  <tbody>\n    <tr>\n      <th>0</th>\n      <td>04735502177c9f39f7b682a94073171b2454de56336131...</td>\n      <td>common_voice_es_22000235.mp3</td>\n      <td>sí</td>\n      <td>2</td>\n      <td>1</td>\n      <td>twenties</td>\n      <td>male</td>\n      <td>NaN</td>\n      <td>es</td>\n      <td>Benchmark</td>\n    </tr>\n    <tr>\n      <th>1</th>\n      <td>1f8dda45bd7eb7a269c5afa64066cc58e1ed6a9a4f73f2...</td>\n      <td>common_voice_es_18825288.mp3</td>\n      <td>es Colombia.</td>\n      <td>2</td>\n      <td>1</td>\n      <td>twenties</td>\n      <td>male</td>\n      <td>NaN</td>\n      <td>es</td>\n      <td>NaN</td>\n    </tr>\n    <tr>\n      <th>2</th>\n      <td>2b8ff5ebdd3244d68d75e955f05f1a852ffbe7c5d6abda...</td>\n      <td>common_voice_es_22043788.mp3</td>\n      <td>sí</td>\n      <td>2</td>\n      <td>0</td>\n      <td>fifties</td>\n      <td>male</td>\n      <td>caribe</td>\n      <td>es</td>\n      <td>Benchmark</td>\n    </tr>\n    <tr>\n      <th>3</th>\n      <td>75e75a16bf18aed46da815ba370629a25297e70b95b916...</td>\n      <td>common_voice_es_21988507.mp3</td>\n      <td>siete</td>\n      <td>3</td>\n      <td>0</td>\n      <td>thirties</td>\n      <td>male</td>\n      <td>andino</td>\n      <td>es</td>\n      <td>Benchmark</td>\n    </tr>\n    <tr>\n      <th>4</th>\n      <td>c5b6929016d3e6d2a298b1943ead26edf403ce8303999f...</td>\n      <td>common_voice_es_21964599.mp3</td>\n      <td>dos</td>\n      <td>2</td>\n      <td>1</td>\n      <td>twenties</td>\n      <td>male</td>\n      <td>NaN</td>\n      <td>es</td>\n      <td>Benchmark</td>\n    </tr>\n  </tbody>\n</table>\n</div>"
     },
     "metadata": {},
     "execution_count": 10
    }
   ],
   "source": [
    "audios = pd.merge(validados, audios_test, on=\"path\")\n",
    "audios.head()"
   ]
  },
  {
   "cell_type": "code",
   "execution_count": 11,
   "metadata": {},
   "outputs": [
    {
     "output_type": "stream",
     "name": "stdout",
     "text": [
      "1048\n1048\n"
     ]
    }
   ],
   "source": [
    "print(len(audio_test))\n",
    "print(len(audios))"
   ]
  },
  {
   "cell_type": "code",
   "execution_count": 13,
   "metadata": {},
   "outputs": [],
   "source": [
    "os.chdir(r'C:\\Users\\maxia\\Desktop\\Facultad\\Labo de acústica\\Codigo')\n",
    "\n",
    "audios.to_excel(\"audios_para_el_test.xlsx\") "
   ]
  },
  {
   "cell_type": "code",
   "execution_count": 14,
   "metadata": {},
   "outputs": [],
   "source": [
    "import shutil"
   ]
  },
  {
   "cell_type": "code",
   "execution_count": 15,
   "metadata": {},
   "outputs": [
    {
     "output_type": "execute_result",
     "data": {
      "text/plain": [
       "                           path                   sentence  up_votes  \\\n",
       "0  common_voice_es_19720169.mp3    Es justo lo contrario\".         2   \n",
       "1  common_voice_es_18562961.mp3        pero... te quiero .         2   \n",
       "2  common_voice_es_18943143.mp3  ¡Cuánto tiempo sin verte!         2   \n",
       "3  common_voice_es_18571802.mp3             capítulo tres.         2   \n",
       "4  common_voice_es_18571804.mp3        chao. hasta luego .         2   \n",
       "\n",
       "   down_votes       age gender          accent locale  \n",
       "0           0  twenties   male  americacentral     es  \n",
       "1           0  thirties   male             NaN     es  \n",
       "2           0  thirties   male     rioplatense     es  \n",
       "3           0  fourties   male             NaN     es  \n",
       "4           0  fourties   male             NaN     es  "
      ],
      "text/html": "<div>\n<style scoped>\n    .dataframe tbody tr th:only-of-type {\n        vertical-align: middle;\n    }\n\n    .dataframe tbody tr th {\n        vertical-align: top;\n    }\n\n    .dataframe thead th {\n        text-align: right;\n    }\n</style>\n<table border=\"1\" class=\"dataframe\">\n  <thead>\n    <tr style=\"text-align: right;\">\n      <th></th>\n      <th>path</th>\n      <th>sentence</th>\n      <th>up_votes</th>\n      <th>down_votes</th>\n      <th>age</th>\n      <th>gender</th>\n      <th>accent</th>\n      <th>locale</th>\n    </tr>\n  </thead>\n  <tbody>\n    <tr>\n      <th>0</th>\n      <td>common_voice_es_19720169.mp3</td>\n      <td>Es justo lo contrario\".</td>\n      <td>2</td>\n      <td>0</td>\n      <td>twenties</td>\n      <td>male</td>\n      <td>americacentral</td>\n      <td>es</td>\n    </tr>\n    <tr>\n      <th>1</th>\n      <td>common_voice_es_18562961.mp3</td>\n      <td>pero... te quiero .</td>\n      <td>2</td>\n      <td>0</td>\n      <td>thirties</td>\n      <td>male</td>\n      <td>NaN</td>\n      <td>es</td>\n    </tr>\n    <tr>\n      <th>2</th>\n      <td>common_voice_es_18943143.mp3</td>\n      <td>¡Cuánto tiempo sin verte!</td>\n      <td>2</td>\n      <td>0</td>\n      <td>thirties</td>\n      <td>male</td>\n      <td>rioplatense</td>\n      <td>es</td>\n    </tr>\n    <tr>\n      <th>3</th>\n      <td>common_voice_es_18571802.mp3</td>\n      <td>capítulo tres.</td>\n      <td>2</td>\n      <td>0</td>\n      <td>fourties</td>\n      <td>male</td>\n      <td>NaN</td>\n      <td>es</td>\n    </tr>\n    <tr>\n      <th>4</th>\n      <td>common_voice_es_18571804.mp3</td>\n      <td>chao. hasta luego .</td>\n      <td>2</td>\n      <td>0</td>\n      <td>fourties</td>\n      <td>male</td>\n      <td>NaN</td>\n      <td>es</td>\n    </tr>\n  </tbody>\n</table>\n</div>"
     },
     "metadata": {},
     "execution_count": 15
    }
   ],
   "source": [
    "audios_para_el_test = pd.read_excel(\"audios_para_el_test.xlsx\")\n",
    "audios_para_el_test.head()"
   ]
  },
  {
   "cell_type": "code",
   "execution_count": 17,
   "metadata": {},
   "outputs": [],
   "source": [
    "audios_to_copy = audios_para_el_test['path'].tolist()"
   ]
  },
  {
   "cell_type": "code",
   "execution_count": 18,
   "metadata": {},
   "outputs": [
    {
     "output_type": "stream",
     "name": "stdout",
     "text": [
      "Se movieron 1 audios\n",
      "Se movieron 2 audios\n",
      "Se movieron 3 audios\n",
      "Se movieron 4 audios\n",
      "Se movieron 5 audios\n",
      "Se movieron 6 audios\n",
      "Se movieron 7 audios\n",
      "Se movieron 8 audios\n",
      "Se movieron 9 audios\n",
      "Se movieron 10 audios\n",
      "Se movieron 11 audios\n",
      "Se movieron 12 audios\n",
      "Se movieron 13 audios\n",
      "Se movieron 14 audios\n",
      "Se movieron 15 audios\n",
      "Se movieron 16 audios\n",
      "Se movieron 17 audios\n",
      "Se movieron 18 audios\n",
      "Se movieron 19 audios\n",
      "Se movieron 20 audios\n",
      "Se movieron 21 audios\n",
      "Se movieron 22 audios\n",
      "Se movieron 23 audios\n",
      "Se movieron 24 audios\n",
      "Se movieron 25 audios\n",
      "Se movieron 26 audios\n",
      "Se movieron 27 audios\n",
      "Se movieron 28 audios\n",
      "Se movieron 29 audios\n",
      "Se movieron 30 audios\n",
      "Se movieron 31 audios\n",
      "Se movieron 32 audios\n",
      "Se movieron 33 audios\n",
      "Se movieron 34 audios\n",
      "Se movieron 35 audios\n",
      "Se movieron 36 audios\n",
      "Se movieron 37 audios\n",
      "Se movieron 38 audios\n",
      "Se movieron 39 audios\n",
      "Se movieron 40 audios\n",
      "Se movieron 41 audios\n",
      "Se movieron 42 audios\n"
     ]
    }
   ],
   "source": [
    "os.chdir(r'C:\\Users\\maxia\\Desktop\\Facultad\\Labo de acústica\\Codigo\\3_audios_test')\n",
    "\n",
    "path_to_copy ='C:/Users/maxia/Desktop/Facultad/Labo de acústica/Codigo/5_2_veo_que_onda'\n",
    "\n",
    "i=0\n",
    "\n",
    "for audio_valido in audios_to_copy:\n",
    "    i+=1\n",
    "    shutil.copy(audio_valido.split('.mp3')[0]+'.npy', path_to_copy)\n",
    "\n",
    "    print(f'Se movieron {i} audios')"
   ]
  },
  {
   "cell_type": "code",
   "execution_count": null,
   "metadata": {},
   "outputs": [],
   "source": []
  }
 ]
}