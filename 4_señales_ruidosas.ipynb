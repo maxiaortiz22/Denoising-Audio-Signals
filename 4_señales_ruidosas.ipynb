{
 "metadata": {
  "language_info": {
   "codemirror_mode": {
    "name": "ipython",
    "version": 3
   },
   "file_extension": ".py",
   "mimetype": "text/x-python",
   "name": "python",
   "nbconvert_exporter": "python",
   "pygments_lexer": "ipython3",
   "version": "3.7.6"
  },
  "orig_nbformat": 2,
  "kernelspec": {
   "name": "python3",
   "display_name": "Python 3.7.6 64-bit ('base': conda)"
  },
  "interpreter": {
   "hash": "43ead9a4f129a837026f2fb3fada08cc5f38cb8b9e7cee4d9c3e8d1fdb03f054"
  }
 },
 "nbformat": 4,
 "nbformat_minor": 2,
 "cells": [
  {
   "source": [
    "## Genero los audios con ruido\n",
    "\n",
    "#Audios para utilizar con la red y con el filtrado de wavelet.\n",
    "\n",
    "La idea es generar audios para entrenar la red. En principio, necesitaría que la cantidad de audios sea par para poder dividir la red en 4:\n",
    "\n",
    "* Audios con 0 dB de SNR\n",
    "* Audios con -5 dB de SNR\n",
    "* Audios con -10 dB de SNR\n",
    "* Audios con -15 dB de SNR\n",
    "\n",
    "Primero veo cuántos audios tengo..."
   ],
   "cell_type": "markdown",
   "metadata": {}
  },
  {
   "cell_type": "code",
   "execution_count": 1,
   "metadata": {},
   "outputs": [],
   "source": [
    "import numpy as np\n",
    "import os\n",
    "import glob\n",
    "import shutil"
   ]
  },
  {
   "cell_type": "code",
   "execution_count": 2,
   "metadata": {},
   "outputs": [
    {
     "output_type": "stream",
     "name": "stdout",
     "text": [
      "22000\n5500.0\n"
     ]
    }
   ],
   "source": [
    "os.chdir(r'C:\\Users\\maxia\\Desktop\\Facultad\\Labo de acústica\\Codigo\\4_audios_train')\n",
    "\n",
    "audios = []\n",
    "\n",
    "for dir in glob.iglob('*common*', recursive=True):\n",
    "    audios.append(dir)\n",
    "\n",
    "print(len(audios))\n",
    "print(len(audios)/4)"
   ]
  },
  {
   "cell_type": "code",
   "execution_count": 3,
   "metadata": {},
   "outputs": [
    {
     "output_type": "stream",
     "name": "stdout",
     "text": [
      "Este audio tiene un total de 65280 muestras\n"
     ]
    }
   ],
   "source": [
    "#Cada audio tiene un total de muestras de:\n",
    "ejemplo = np.load(audios[22])\n",
    "print(f'Este audio tiene un total de {len(ejemplo)} muestras')"
   ]
  },
  {
   "cell_type": "code",
   "execution_count": 5,
   "metadata": {},
   "outputs": [
    {
     "output_type": "execute_result",
     "data": {
      "text/plain": [
       "'Con lo cual, voy a tener 3 grupos de 2087 y 1 grupo con 2090 audios '"
      ]
     },
     "metadata": {},
     "execution_count": 5
    }
   ],
   "source": [
    "\"\"\"Con lo cual, voy a tener 3 grupos de 2087 y 1 grupo con 2090 audios \"\"\""
   ]
  },
  {
   "source": [
    "# Generación de los audios ruidosos para entrenar:\n",
    "\n",
    "Ya contamos con audios separados en largos de a 65280 muestras, ahora necesito agregarles ruido tal que su SNR sea de 0, 5, 10 o 15 dB"
   ],
   "cell_type": "markdown",
   "metadata": {}
  },
  {
   "cell_type": "code",
   "execution_count": 4,
   "metadata": {},
   "outputs": [
    {
     "output_type": "stream",
     "name": "stdout",
     "text": [
      "22000\n3-common_voice_es_19976189_2.npy\n"
     ]
    }
   ],
   "source": [
    "os.chdir(r'C:\\Users\\maxia\\Desktop\\Facultad\\Labo de acústica\\Codigo\\4_audios_train')\n",
    "\n",
    "print(len(audios))\n",
    "print(audios[-1])"
   ]
  },
  {
   "cell_type": "code",
   "execution_count": 5,
   "metadata": {},
   "outputs": [],
   "source": [
    "#Separo los valores según cómo los voy a formar\n",
    "ruido_0 = audios[0:5500]\n",
    "ruido_5 = audios[5500:11000]\n",
    "ruido_10 = audios[11000:16500]\n",
    "ruido_15 = audios[16500:22000]"
   ]
  },
  {
   "cell_type": "code",
   "execution_count": 6,
   "metadata": {},
   "outputs": [],
   "source": [
    "#Creo una función para agregar ruido para un determinado SNR\n",
    "\n",
    "def noise(data, snr):\n",
    "\n",
    "    rms = np.sqrt(np.mean(data**2)) #Calculo el rms de la señal\n",
    "    STD_noise = np.sqrt((rms**2)/(10**(snr/10))) #Calculo el rms=std del ruido para x SNR\n",
    "    noise = np.random.normal(0, STD_noise, data.shape) #Genero el ruido\n",
    "    noisy_sigal = data + noise #Sumo señal y ruido\n",
    "\n",
    "    return noisy_sigal"
   ]
  },
  {
   "cell_type": "code",
   "execution_count": 7,
   "metadata": {},
   "outputs": [
    {
     "output_type": "stream",
     "name": "stdout",
     "text": [
      "Audio limpio\n",
      "Aduio + ruido a 0 dB SNR\n",
      "Aduio + ruido a 5 dB SNR\n",
      "Aduio + ruido a 10 dB SNR\n",
      "Aduio + ruido a 15 dB SNR\n"
     ]
    }
   ],
   "source": [
    "#Prueba con un audio random para ver si funciona\n",
    "import sounddevice as sd\n",
    "import time\n",
    "os.chdir(r'C:\\Users\\maxia\\Desktop\\Facultad\\Labo de acústica\\Codigo\\4_audios_train')\n",
    "\n",
    "data = np.load(audios[0])\n",
    "\n",
    "noise_data_0 = noise(data, 0)\n",
    "noise_data_5 = noise(data, 5)\n",
    "noise_data_10 = noise(data, 10)\n",
    "noise_data_15 = noise(data, 15)\n",
    "\n",
    "print('Audio limpio')\n",
    "sd.play(data, samplerate=22050)\n",
    "time.sleep(len(data)/22050)\n",
    "\n",
    "print('Aduio + ruido a 0 dB SNR')\n",
    "sd.play(noise_data_0, samplerate=22050)\n",
    "time.sleep(len(data)/22050)\n",
    "\n",
    "print('Aduio + ruido a 5 dB SNR')\n",
    "sd.play(noise_data_5, samplerate=22050)\n",
    "time.sleep(len(data)/22050)\n",
    "\n",
    "print('Aduio + ruido a 10 dB SNR')\n",
    "sd.play(noise_data_10, samplerate=22050)\n",
    "time.sleep(len(data)/22050)\n",
    "\n",
    "print('Aduio + ruido a 15 dB SNR')\n",
    "sd.play(noise_data_15, samplerate=22050)"
   ]
  },
  {
   "cell_type": "code",
   "execution_count": 8,
   "metadata": {},
   "outputs": [
    {
     "output_type": "stream",
     "name": "stdout",
     "text": [
      "0-common_voice_es_18307761_1\n"
     ]
    }
   ],
   "source": [
    "print(audios[0].split('.npy')[0])"
   ]
  },
  {
   "cell_type": "code",
   "execution_count": 9,
   "metadata": {},
   "outputs": [
    {
     "output_type": "stream",
     "name": "stdout",
     "text": [
      "Creando audios a con SNR de 0 dB\n",
      "Se crearon 100 audios a 0 dB de SNR\n",
      "Se crearon 200 audios a 0 dB de SNR\n",
      "Se crearon 300 audios a 0 dB de SNR\n",
      "Se crearon 400 audios a 0 dB de SNR\n",
      "Se crearon 500 audios a 0 dB de SNR\n",
      "Se crearon 600 audios a 0 dB de SNR\n",
      "Se crearon 700 audios a 0 dB de SNR\n",
      "Se crearon 800 audios a 0 dB de SNR\n",
      "Se crearon 900 audios a 0 dB de SNR\n",
      "Se crearon 1000 audios a 0 dB de SNR\n",
      "Se crearon 1100 audios a 0 dB de SNR\n",
      "Se crearon 1200 audios a 0 dB de SNR\n",
      "Se crearon 1300 audios a 0 dB de SNR\n",
      "Se crearon 1400 audios a 0 dB de SNR\n",
      "Se crearon 1500 audios a 0 dB de SNR\n",
      "Se crearon 1600 audios a 0 dB de SNR\n",
      "Se crearon 1700 audios a 0 dB de SNR\n",
      "Se crearon 1800 audios a 0 dB de SNR\n",
      "Se crearon 1900 audios a 0 dB de SNR\n",
      "Se crearon 2000 audios a 0 dB de SNR\n",
      "Se crearon 2100 audios a 0 dB de SNR\n",
      "Se crearon 2200 audios a 0 dB de SNR\n",
      "Se crearon 2300 audios a 0 dB de SNR\n",
      "Se crearon 2400 audios a 0 dB de SNR\n",
      "Se crearon 2500 audios a 0 dB de SNR\n",
      "Se crearon 2600 audios a 0 dB de SNR\n",
      "Se crearon 2700 audios a 0 dB de SNR\n",
      "Se crearon 2800 audios a 0 dB de SNR\n",
      "Se crearon 2900 audios a 0 dB de SNR\n",
      "Se crearon 3000 audios a 0 dB de SNR\n",
      "Se crearon 3100 audios a 0 dB de SNR\n",
      "Se crearon 3200 audios a 0 dB de SNR\n",
      "Se crearon 3300 audios a 0 dB de SNR\n",
      "Se crearon 3400 audios a 0 dB de SNR\n",
      "Se crearon 3500 audios a 0 dB de SNR\n",
      "Se crearon 3600 audios a 0 dB de SNR\n",
      "Se crearon 3700 audios a 0 dB de SNR\n",
      "Se crearon 3800 audios a 0 dB de SNR\n",
      "Se crearon 3900 audios a 0 dB de SNR\n",
      "Se crearon 4000 audios a 0 dB de SNR\n",
      "Se crearon 4100 audios a 0 dB de SNR\n",
      "Se crearon 4200 audios a 0 dB de SNR\n",
      "Se crearon 4300 audios a 0 dB de SNR\n",
      "Se crearon 4400 audios a 0 dB de SNR\n",
      "Se crearon 4500 audios a 0 dB de SNR\n",
      "Se crearon 4600 audios a 0 dB de SNR\n",
      "Se crearon 4700 audios a 0 dB de SNR\n",
      "Se crearon 4800 audios a 0 dB de SNR\n",
      "Se crearon 4900 audios a 0 dB de SNR\n",
      "Se crearon 5000 audios a 0 dB de SNR\n",
      "Se crearon 5100 audios a 0 dB de SNR\n",
      "Se crearon 5200 audios a 0 dB de SNR\n",
      "Se crearon 5300 audios a 0 dB de SNR\n",
      "Se crearon 5400 audios a 0 dB de SNR\n",
      "Se crearon 5500 audios a 0 dB de SNR\n",
      "Creando audios a 5 de SNR\n",
      "Se crearon 100 audios a 5 de SNR\n",
      "Se crearon 200 audios a 5 de SNR\n",
      "Se crearon 300 audios a 5 de SNR\n",
      "Se crearon 400 audios a 5 de SNR\n",
      "Se crearon 500 audios a 5 de SNR\n",
      "Se crearon 600 audios a 5 de SNR\n",
      "Se crearon 700 audios a 5 de SNR\n",
      "Se crearon 800 audios a 5 de SNR\n",
      "Se crearon 900 audios a 5 de SNR\n",
      "Se crearon 1000 audios a 5 de SNR\n",
      "Se crearon 1100 audios a 5 de SNR\n",
      "Se crearon 1200 audios a 5 de SNR\n",
      "Se crearon 1300 audios a 5 de SNR\n",
      "Se crearon 1400 audios a 5 de SNR\n",
      "Se crearon 1500 audios a 5 de SNR\n",
      "Se crearon 1600 audios a 5 de SNR\n",
      "Se crearon 1700 audios a 5 de SNR\n",
      "Se crearon 1800 audios a 5 de SNR\n",
      "Se crearon 1900 audios a 5 de SNR\n",
      "Se crearon 2000 audios a 5 de SNR\n",
      "Se crearon 2100 audios a 5 de SNR\n",
      "Se crearon 2200 audios a 5 de SNR\n",
      "Se crearon 2300 audios a 5 de SNR\n",
      "Se crearon 2400 audios a 5 de SNR\n",
      "Se crearon 2500 audios a 5 de SNR\n",
      "Se crearon 2600 audios a 5 de SNR\n",
      "Se crearon 2700 audios a 5 de SNR\n",
      "Se crearon 2800 audios a 5 de SNR\n",
      "Se crearon 2900 audios a 5 de SNR\n",
      "Se crearon 3000 audios a 5 de SNR\n",
      "Se crearon 3100 audios a 5 de SNR\n",
      "Se crearon 3200 audios a 5 de SNR\n",
      "Se crearon 3300 audios a 5 de SNR\n",
      "Se crearon 3400 audios a 5 de SNR\n",
      "Se crearon 3500 audios a 5 de SNR\n",
      "Se crearon 3600 audios a 5 de SNR\n",
      "Se crearon 3700 audios a 5 de SNR\n",
      "Se crearon 3800 audios a 5 de SNR\n",
      "Se crearon 3900 audios a 5 de SNR\n",
      "Se crearon 4000 audios a 5 de SNR\n",
      "Se crearon 4100 audios a 5 de SNR\n",
      "Se crearon 4200 audios a 5 de SNR\n",
      "Se crearon 4300 audios a 5 de SNR\n",
      "Se crearon 4400 audios a 5 de SNR\n",
      "Se crearon 4500 audios a 5 de SNR\n",
      "Se crearon 4600 audios a 5 de SNR\n",
      "Se crearon 4700 audios a 5 de SNR\n",
      "Se crearon 4800 audios a 5 de SNR\n",
      "Se crearon 4900 audios a 5 de SNR\n",
      "Se crearon 5000 audios a 5 de SNR\n",
      "Se crearon 5100 audios a 5 de SNR\n",
      "Se crearon 5200 audios a 5 de SNR\n",
      "Se crearon 5300 audios a 5 de SNR\n",
      "Se crearon 5400 audios a 5 de SNR\n",
      "Se crearon 5500 audios a 5 de SNR\n",
      "Creando audios a 10 de SNR\n",
      "Se crearon 100 audios a 10 de SNR\n",
      "Se crearon 200 audios a 10 de SNR\n",
      "Se crearon 300 audios a 10 de SNR\n",
      "Se crearon 400 audios a 10 de SNR\n",
      "Se crearon 500 audios a 10 de SNR\n",
      "Se crearon 600 audios a 10 de SNR\n",
      "Se crearon 700 audios a 10 de SNR\n",
      "Se crearon 800 audios a 10 de SNR\n",
      "Se crearon 900 audios a 10 de SNR\n",
      "Se crearon 1000 audios a 10 de SNR\n",
      "Se crearon 1100 audios a 10 de SNR\n",
      "Se crearon 1200 audios a 10 de SNR\n",
      "Se crearon 1300 audios a 10 de SNR\n",
      "Se crearon 1400 audios a 10 de SNR\n",
      "Se crearon 1500 audios a 10 de SNR\n",
      "Se crearon 1600 audios a 10 de SNR\n",
      "Se crearon 1700 audios a 10 de SNR\n",
      "Se crearon 1800 audios a 10 de SNR\n",
      "Se crearon 1900 audios a 10 de SNR\n",
      "Se crearon 2000 audios a 10 de SNR\n",
      "Se crearon 2100 audios a 10 de SNR\n",
      "Se crearon 2200 audios a 10 de SNR\n",
      "Se crearon 2300 audios a 10 de SNR\n",
      "Se crearon 2400 audios a 10 de SNR\n",
      "Se crearon 2500 audios a 10 de SNR\n",
      "Se crearon 2600 audios a 10 de SNR\n",
      "Se crearon 2700 audios a 10 de SNR\n",
      "Se crearon 2800 audios a 10 de SNR\n",
      "Se crearon 2900 audios a 10 de SNR\n",
      "Se crearon 3000 audios a 10 de SNR\n",
      "Se crearon 3100 audios a 10 de SNR\n",
      "Se crearon 3200 audios a 10 de SNR\n",
      "Se crearon 3300 audios a 10 de SNR\n",
      "Se crearon 3400 audios a 10 de SNR\n",
      "Se crearon 3500 audios a 10 de SNR\n",
      "Se crearon 3600 audios a 10 de SNR\n",
      "Se crearon 3700 audios a 10 de SNR\n",
      "Se crearon 3800 audios a 10 de SNR\n",
      "Se crearon 3900 audios a 10 de SNR\n",
      "Se crearon 4000 audios a 10 de SNR\n",
      "Se crearon 4100 audios a 10 de SNR\n",
      "Se crearon 4200 audios a 10 de SNR\n",
      "Se crearon 4300 audios a 10 de SNR\n",
      "Se crearon 4400 audios a 10 de SNR\n",
      "Se crearon 4500 audios a 10 de SNR\n",
      "Se crearon 4600 audios a 10 de SNR\n",
      "Se crearon 4700 audios a 10 de SNR\n",
      "Se crearon 4800 audios a 10 de SNR\n",
      "Se crearon 4900 audios a 10 de SNR\n",
      "Se crearon 5000 audios a 10 de SNR\n",
      "Se crearon 5100 audios a 10 de SNR\n",
      "Se crearon 5200 audios a 10 de SNR\n",
      "Se crearon 5300 audios a 10 de SNR\n",
      "Se crearon 5400 audios a 10 de SNR\n",
      "Se crearon 5500 audios a 10 de SNR\n",
      "Creando audios a 15 de SNR\n",
      "Se crearon 100 audios a 15 de SNR\n",
      "Se crearon 200 audios a 15 de SNR\n",
      "Se crearon 300 audios a 15 de SNR\n",
      "Se crearon 400 audios a 15 de SNR\n",
      "Se crearon 500 audios a 15 de SNR\n",
      "Se crearon 600 audios a 15 de SNR\n",
      "Se crearon 700 audios a 15 de SNR\n",
      "Se crearon 800 audios a 15 de SNR\n",
      "Se crearon 900 audios a 15 de SNR\n",
      "Se crearon 1000 audios a 15 de SNR\n",
      "Se crearon 1100 audios a 15 de SNR\n",
      "Se crearon 1200 audios a 15 de SNR\n",
      "Se crearon 1300 audios a 15 de SNR\n",
      "Se crearon 1400 audios a 15 de SNR\n",
      "Se crearon 1500 audios a 15 de SNR\n",
      "Se crearon 1600 audios a 15 de SNR\n",
      "Se crearon 1700 audios a 15 de SNR\n",
      "Se crearon 1800 audios a 15 de SNR\n",
      "Se crearon 1900 audios a 15 de SNR\n",
      "Se crearon 2000 audios a 15 de SNR\n",
      "Se crearon 2100 audios a 15 de SNR\n",
      "Se crearon 2200 audios a 15 de SNR\n",
      "Se crearon 2300 audios a 15 de SNR\n",
      "Se crearon 2400 audios a 15 de SNR\n",
      "Se crearon 2500 audios a 15 de SNR\n",
      "Se crearon 2600 audios a 15 de SNR\n",
      "Se crearon 2700 audios a 15 de SNR\n",
      "Se crearon 2800 audios a 15 de SNR\n",
      "Se crearon 2900 audios a 15 de SNR\n",
      "Se crearon 3000 audios a 15 de SNR\n",
      "Se crearon 3100 audios a 15 de SNR\n",
      "Se crearon 3200 audios a 15 de SNR\n",
      "Se crearon 3300 audios a 15 de SNR\n",
      "Se crearon 3400 audios a 15 de SNR\n",
      "Se crearon 3500 audios a 15 de SNR\n",
      "Se crearon 3600 audios a 15 de SNR\n",
      "Se crearon 3700 audios a 15 de SNR\n",
      "Se crearon 3800 audios a 15 de SNR\n",
      "Se crearon 3900 audios a 15 de SNR\n",
      "Se crearon 4000 audios a 15 de SNR\n",
      "Se crearon 4100 audios a 15 de SNR\n",
      "Se crearon 4200 audios a 15 de SNR\n",
      "Se crearon 4300 audios a 15 de SNR\n",
      "Se crearon 4400 audios a 15 de SNR\n",
      "Se crearon 4500 audios a 15 de SNR\n",
      "Se crearon 4600 audios a 15 de SNR\n",
      "Se crearon 4700 audios a 15 de SNR\n",
      "Se crearon 4800 audios a 15 de SNR\n",
      "Se crearon 4900 audios a 15 de SNR\n",
      "Se crearon 5000 audios a 15 de SNR\n",
      "Se crearon 5100 audios a 15 de SNR\n",
      "Se crearon 5200 audios a 15 de SNR\n",
      "Se crearon 5300 audios a 15 de SNR\n",
      "Se crearon 5400 audios a 15 de SNR\n",
      "Se crearon 5500 audios a 15 de SNR\n",
      "Listo, audios guardados en la carpeta audios_ruidosos\n"
     ]
    }
   ],
   "source": [
    "#Genero los audios con ruido: para esto voy a agregar al principio de cada audio un número que represente su nivel de SNR\n",
    "os.chdir(r'C:\\Users\\maxia\\Desktop\\Facultad\\Labo de acústica\\Codigo')\n",
    "\n",
    "print('Creando audios a con SNR de 0 dB')\n",
    "i=0\n",
    "for filename in ruido_0:\n",
    "    i+=1\n",
    "    data = np.load('4_audios_train/'+filename)\n",
    "    noise_data_0 = noise(data, 0)\n",
    "    np.save('6_audios_ruidosos_train/'+filename.split('.npy')[0]+'_SNR-0', noise_data_0)\n",
    "\n",
    "    if(i%100) == 0:\n",
    "        print(f'Se crearon {i} audios a 0 dB de SNR')\n",
    "\n",
    "    else:\n",
    "        pass\n",
    "\n",
    "print('Creando audios a 5 de SNR')\n",
    "i=0\n",
    "for filename in ruido_5:\n",
    "    i+=1\n",
    "    data = np.load('4_audios_train/'+filename)\n",
    "    noise_data_5 = noise(data, 5)\n",
    "    np.save('6_audios_ruidosos_train/'+filename.split('.npy')[0]+'_SNR-5', noise_data_5)\n",
    "\n",
    "    if(i%100) == 0:\n",
    "        print(f'Se crearon {i} audios a 5 de SNR')\n",
    "\n",
    "    else:\n",
    "        pass\n",
    "\n",
    "print('Creando audios a 10 de SNR')\n",
    "i=0\n",
    "for filename in ruido_10:\n",
    "    i+=1\n",
    "    data = np.load('4_audios_train/'+filename)\n",
    "    noise_data_10 = noise(data, 10)\n",
    "    np.save('6_audios_ruidosos_train/'+filename.split('.npy')[0]+'_SNR-10', noise_data_10)\n",
    "\n",
    "    if(i%100) == 0:\n",
    "        print(f'Se crearon {i} audios a 10 de SNR')\n",
    "\n",
    "    else:\n",
    "        pass\n",
    "\n",
    "print('Creando audios a 15 de SNR')\n",
    "i=0\n",
    "for filename in ruido_15:\n",
    "    i+=1\n",
    "    data = np.load('4_audios_train/'+filename)\n",
    "    noise_data_15 = noise(data, 15)\n",
    "    np.save('6_audios_ruidosos_train/'+filename.split('.npy')[0]+'_SNR-15', noise_data_15)\n",
    "\n",
    "    if(i%100) == 0:\n",
    "        print(f'Se crearon {i} audios a 15 de SNR')\n",
    "\n",
    "    else:\n",
    "        pass\n",
    "\n",
    "print('Listo, audios guardados en la carpeta audios_ruidosos')"
   ]
  },
  {
   "source": [
    "# Generación de los audios ruidosos para testing"
   ],
   "cell_type": "markdown",
   "metadata": {}
  },
  {
   "cell_type": "code",
   "execution_count": 11,
   "metadata": {},
   "outputs": [
    {
     "output_type": "stream",
     "name": "stdout",
     "text": [
      "1048\n262.0\n"
     ]
    }
   ],
   "source": [
    "os.chdir(r'C:\\Users\\maxia\\Desktop\\Facultad\\Labo de acústica\\Codigo\\3_audios_test')\n",
    "\n",
    "audios = []\n",
    "\n",
    "for dir in glob.iglob('common*', recursive=True):\n",
    "    audios.append(dir)\n",
    "\n",
    "print(len(audios))\n",
    "print(len(audios)/4)"
   ]
  },
  {
   "cell_type": "code",
   "execution_count": 12,
   "metadata": {},
   "outputs": [
    {
     "output_type": "execute_result",
     "data": {
      "text/plain": [
       "'Con lo cual, voy a tener 4 grupos de 262 audios '"
      ]
     },
     "metadata": {},
     "execution_count": 12
    }
   ],
   "source": [
    "\"\"\"Con lo cual, voy a tener 4 grupos de 262 audios \"\"\""
   ]
  },
  {
   "cell_type": "code",
   "execution_count": 13,
   "metadata": {},
   "outputs": [],
   "source": [
    "#Separo los valores según cómo los voy a formar\n",
    "ruido_0 = audios[0:262]\n",
    "ruido_5 = audios[262:524]\n",
    "ruido_10 = audios[524:786]\n",
    "ruido_15 = audios[786:1048]"
   ]
  },
  {
   "cell_type": "code",
   "execution_count": 14,
   "metadata": {},
   "outputs": [
    {
     "output_type": "stream",
     "name": "stdout",
     "text": [
      "Audio limpio\n",
      "Aduio + ruido a 0 dB SNR\n",
      "Aduio + ruido a 5 dB SNR\n",
      "Aduio + ruido a 10 dB SNR\n",
      "Aduio + ruido a 15 dB SNR\n"
     ]
    }
   ],
   "source": [
    "#Prueba con audios random\n",
    "data = np.load(audios[0])\n",
    "\n",
    "noise_data_0 = noise(data, 0)\n",
    "noise_data_5 = noise(data, 5)\n",
    "noise_data_10 = noise(data, 10)\n",
    "noise_data_15 = noise(data, 15)\n",
    "\n",
    "print('Audio limpio')\n",
    "sd.play(data, samplerate=22050)\n",
    "time.sleep(len(data)/22050)\n",
    "\n",
    "print('Aduio + ruido a 0 dB SNR')\n",
    "sd.play(noise_data_0, samplerate=22050)\n",
    "time.sleep(len(data)/22050)\n",
    "\n",
    "print('Aduio + ruido a 5 dB SNR')\n",
    "sd.play(noise_data_5, samplerate=22050)\n",
    "time.sleep(len(data)/22050)\n",
    "\n",
    "print('Aduio + ruido a 10 dB SNR')\n",
    "sd.play(noise_data_10, samplerate=22050)\n",
    "time.sleep(len(data)/22050)\n",
    "\n",
    "print('Aduio + ruido a 15 dB SNR')\n",
    "sd.play(noise_data_15, samplerate=22050)"
   ]
  },
  {
   "cell_type": "code",
   "execution_count": 15,
   "metadata": {},
   "outputs": [
    {
     "output_type": "stream",
     "name": "stdout",
     "text": [
      "common_voice_es_18309707\n"
     ]
    }
   ],
   "source": [
    "print(audios[0].split('.npy')[0])"
   ]
  },
  {
   "cell_type": "code",
   "execution_count": 16,
   "metadata": {},
   "outputs": [
    {
     "output_type": "stream",
     "name": "stdout",
     "text": [
      "Creando audios a con SNR de 0 dB\n",
      "Se crearon 100 audios a 0 dB de SNR\n",
      "Se crearon 200 audios a 0 dB de SNR\n",
      "Creando audios a 5 de SNR\n",
      "Se crearon 100 audios a 5 de SNR\n",
      "Se crearon 200 audios a 5 de SNR\n",
      "Creando audios a 10 de SNR\n",
      "Se crearon 100 audios a 10 de SNR\n",
      "Se crearon 200 audios a 10 de SNR\n",
      "Creando audios a 15 de SNR\n",
      "Se crearon 100 audios a 15 de SNR\n",
      "Se crearon 200 audios a 15 de SNR\n",
      "Listo, audios guardados en la carpeta audios_ruidosos\n"
     ]
    }
   ],
   "source": [
    "#Genero los audios con ruido: para esto voy a agregar al principio de cada audio un número que represente su nivel de SNR\n",
    "os.chdir(r'C:\\Users\\maxia\\Desktop\\Facultad\\Labo de acústica\\Codigo')\n",
    "\n",
    "print('Creando audios a con SNR de 0 dB')\n",
    "i=0\n",
    "for filename in ruido_0:\n",
    "    i+=1\n",
    "    data = np.load('3_audios_test/'+filename)\n",
    "    noise_data_0 = noise(data, 0)\n",
    "    np.save('5_audios_ruidosos_test/'+filename.split('.npy')[0]+'_SNR-0', noise_data_0)\n",
    "\n",
    "    if(i%100) == 0:\n",
    "        print(f'Se crearon {i} audios a 0 dB de SNR')\n",
    "\n",
    "    else:\n",
    "        pass\n",
    "\n",
    "print('Creando audios a 5 de SNR')\n",
    "i=0\n",
    "for filename in ruido_5:\n",
    "    i+=1\n",
    "    data = np.load('3_audios_test/'+filename)\n",
    "    noise_data_5 = noise(data, 5)\n",
    "    np.save('5_audios_ruidosos_test/'+filename.split('.npy')[0]+'_SNR-5', noise_data_5)\n",
    "\n",
    "    if(i%100) == 0:\n",
    "        print(f'Se crearon {i} audios a 5 de SNR')\n",
    "\n",
    "    else:\n",
    "        pass\n",
    "\n",
    "print('Creando audios a 10 de SNR')\n",
    "i=0\n",
    "for filename in ruido_10:\n",
    "    i+=1\n",
    "    data = np.load('3_audios_test/'+filename)\n",
    "    noise_data_10 = noise(data, 10)\n",
    "    np.save('5_audios_ruidosos_test/'+filename.split('.npy')[0]+'_SNR-10', noise_data_10)\n",
    "\n",
    "    if(i%100) == 0:\n",
    "        print(f'Se crearon {i} audios a 10 de SNR')\n",
    "\n",
    "    else:\n",
    "        pass\n",
    "\n",
    "print('Creando audios a 15 de SNR')\n",
    "i=0\n",
    "for filename in ruido_15:\n",
    "    i+=1\n",
    "    data = np.load('3_audios_test/'+filename)\n",
    "    noise_data_15 = noise(data, 15)\n",
    "    np.save('5_audios_ruidosos_test/'+filename.split('.npy')[0]+'_SNR-15', noise_data_15)\n",
    "\n",
    "    if(i%100) == 0:\n",
    "        print(f'Se crearon {i} audios a 15 de SNR')\n",
    "\n",
    "    else:\n",
    "        pass\n",
    "\n",
    "print('Listo, audios guardados en la carpeta audios_ruidosos')"
   ]
  },
  {
   "cell_type": "code",
   "execution_count": null,
   "metadata": {},
   "outputs": [],
   "source": []
  }
 ]
}