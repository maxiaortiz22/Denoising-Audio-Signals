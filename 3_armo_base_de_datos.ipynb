{
 "metadata": {
  "language_info": {
   "codemirror_mode": {
    "name": "ipython",
    "version": 3
   },
   "file_extension": ".py",
   "mimetype": "text/x-python",
   "name": "python",
   "nbconvert_exporter": "python",
   "pygments_lexer": "ipython3",
   "version": "3.7.6"
  },
  "orig_nbformat": 2,
  "kernelspec": {
   "name": "python3",
   "display_name": "Python 3.7.6 64-bit ('base': conda)"
  },
  "interpreter": {
   "hash": "43ead9a4f129a837026f2fb3fada08cc5f38cb8b9e7cee4d9c3e8d1fdb03f054"
  }
 },
 "nbformat": 4,
 "nbformat_minor": 2,
 "cells": [
  {
   "source": [
    "# Creo la base de datos final\n",
    "\n",
    "Voy a utilizar 6600 audios de los validados y separarlos en carpetas de a 100"
   ],
   "cell_type": "markdown",
   "metadata": {}
  },
  {
   "source": [
    "Dato importante que me va a servir después!!!\n",
    "\n",
    "Para crear una carpeta vacía puedo usar el siguiente código:\n",
    "\n",
    "import os\n",
    "\n",
    "os.chdir('c:\\\\') # especificico el directorio\n",
    "\n",
    "os.system('nombre_de_la carpeta') # creo la carpeta"
   ],
   "cell_type": "markdown",
   "metadata": {}
  },
  {
   "cell_type": "code",
   "execution_count": 1,
   "metadata": {},
   "outputs": [],
   "source": [
    "import numpy as np\n",
    "import pandas as pd\n",
    "import os\n",
    "import glob\n",
    "from librosa import load\n",
    "import shutil"
   ]
  },
  {
   "source": [
    "Guardo los audios como archivos .npy"
   ],
   "cell_type": "markdown",
   "metadata": {}
  },
  {
   "cell_type": "code",
   "execution_count": 2,
   "metadata": {},
   "outputs": [],
   "source": [
    "audios = np.load('audios_validados.npy')"
   ]
  },
  {
   "cell_type": "code",
   "execution_count": 8,
   "metadata": {},
   "outputs": [
    {
     "output_type": "stream",
     "name": "stdout",
     "text": [
      "Cargando audios...\n",
      "C:\\Users\\maxia\\anaconda3\\lib\\site-packages\\librosa\\core\\audio.py:162: UserWarning: PySoundFile failed. Trying audioread instead.\n",
      "  warnings.warn(\"PySoundFile failed. Trying audioread instead.\")\n",
      "C:\\Users\\maxia\\anaconda3\\lib\\site-packages\\librosa\\core\\audio.py:162: UserWarning: PySoundFile failed. Trying audioread instead.\n",
      "  warnings.warn(\"PySoundFile failed. Trying audioread instead.\")\n",
      "100 audios guardados\n",
      "200 audios guardados\n",
      "300 audios guardados\n",
      "400 audios guardados\n",
      "500 audios guardados\n",
      "600 audios guardados\n",
      "700 audios guardados\n",
      "800 audios guardados\n",
      "900 audios guardados\n",
      "1000 audios guardados\n",
      "1100 audios guardados\n",
      "1200 audios guardados\n",
      "1300 audios guardados\n",
      "1400 audios guardados\n",
      "1500 audios guardados\n",
      "1600 audios guardados\n",
      "1700 audios guardados\n",
      "1800 audios guardados\n",
      "1900 audios guardados\n",
      "2000 audios guardados\n",
      "2100 audios guardados\n",
      "2200 audios guardados\n",
      "2300 audios guardados\n",
      "2400 audios guardados\n",
      "2500 audios guardados\n",
      "2600 audios guardados\n",
      "2700 audios guardados\n",
      "2800 audios guardados\n",
      "2900 audios guardados\n",
      "3000 audios guardados\n",
      "3100 audios guardados\n",
      "3200 audios guardados\n",
      "3300 audios guardados\n",
      "3400 audios guardados\n",
      "3500 audios guardados\n",
      "3600 audios guardados\n",
      "3700 audios guardados\n",
      "3800 audios guardados\n",
      "3900 audios guardados\n",
      "4000 audios guardados\n",
      "4100 audios guardados\n",
      "4200 audios guardados\n",
      "4300 audios guardados\n",
      "4400 audios guardados\n",
      "4500 audios guardados\n",
      "4600 audios guardados\n",
      "4700 audios guardados\n",
      "4800 audios guardados\n",
      "4900 audios guardados\n",
      "5000 audios guardados\n",
      "5100 audios guardados\n",
      "5200 audios guardados\n",
      "5300 audios guardados\n",
      "5400 audios guardados\n",
      "5500 audios guardados\n",
      "5600 audios guardados\n",
      "5700 audios guardados\n",
      "5800 audios guardados\n",
      "5900 audios guardados\n",
      "6000 audios guardados\n",
      "6100 audios guardados\n",
      "6200 audios guardados\n",
      "6300 audios guardados\n",
      "6400 audios guardados\n",
      "6500 audios guardados\n",
      "6600 audios guardados\n",
      "Listo!!!\n"
     ]
    }
   ],
   "source": [
    "os.chdir(r'C:\\Users\\maxia\\Desktop\\Facultad\\Labo de acústica\\Codigo')\n",
    "\n",
    "i=0\n",
    "duration = []\n",
    "\n",
    "print('Cargando audios...')\n",
    "for filename in audios:\n",
    "    i+=1\n",
    "    data, fs = load('1_validados/'+filename, sr=22050)\n",
    "    duracion = len(data)/fs #Duración en segundos del audio\n",
    "    np.save('2_audios/'+filename.split('.mp3')[0], data)\n",
    "    duration.append(duracion)\n",
    "    \n",
    "    if (i % 100) == 0:\n",
    "        print(f'{i} audios guardados')\n",
    "    else:\n",
    "        pass\n",
    "\n",
    "np.save('Duracion_audios.npy', duration)\n",
    "\n",
    "print('Listo!!!')"
   ]
  },
  {
   "source": [
    "# Duración de los audios\n",
    "\n",
    "Qué duración manejan los audios seleccionados? a partir de esto se espera tomar medidas en cuanto al guardado de los audios y demás"
   ],
   "cell_type": "markdown",
   "metadata": {}
  },
  {
   "cell_type": "code",
   "execution_count": 13,
   "metadata": {},
   "outputs": [],
   "source": [
    "os.chdir(r'C:\\Users\\maxia\\Desktop\\Facultad\\Labo de acústica\\Codigo')\n",
    "\n",
    "duracion = np.load('Duracion_audios.npy')"
   ]
  },
  {
   "cell_type": "code",
   "execution_count": 14,
   "metadata": {},
   "outputs": [
    {
     "output_type": "stream",
     "name": "stdout",
     "text": [
      "El audio más corto dura 1.1040362811791382 s, el más largo dura 10.75201814058957 s y el promedio es de 5.295346059231774\n"
     ]
    }
   ],
   "source": [
    "print(f'El audio más corto dura {min(duracion)} s, el más largo dura {max(duracion)} s y el promedio es de {np.mean(duracion)}')"
   ]
  },
  {
   "cell_type": "code",
   "execution_count": 15,
   "metadata": {},
   "outputs": [
    {
     "output_type": "stream",
     "name": "stdout",
     "text": [
      "Hay un total de 1048 audios por debajo de 2.9605442177 segundos\n"
     ]
    }
   ],
   "source": [
    "#Cuento cuántos audios hay por debajo de 2.960544218 segundos\n",
    "#El 2.04 viene de querer una stft de 256x256 y tener que cortar los audios a 65280 muestras y un Fs de 22050 Hz\n",
    "\n",
    "count = 0\n",
    "min_duracion = 65280/22050\n",
    "\n",
    "for duracion_audio in duracion:\n",
    "\n",
    "    if duracion_audio < min_duracion:\n",
    "        count+=1\n",
    "    else:\n",
    "        pass\n",
    "\n",
    "print(f'Hay un total de {count} audios por debajo de 2.9605442177 segundos')"
   ]
  },
  {
   "source": [
    "# Pre-procesamiento: Largo de los audios\n",
    "\n",
    "Ahora toca separar todos los audios que no tengan el largo que necesito"
   ],
   "cell_type": "markdown",
   "metadata": {}
  },
  {
   "cell_type": "code",
   "execution_count": 23,
   "metadata": {},
   "outputs": [
    {
     "output_type": "stream",
     "name": "stdout",
     "text": [
      "1\n5\n12\n22\n41\n42\n50\n70\n85\n86\n89\n90\n106\n128\n135\n136\n148\n179\n180\n185\n203\n204\n205\n206\n207\n241\n242\n243\n244\n247\n248\n249\n274\n275\n276\n282\n292\n298\n299\n300\n301\n302\n303\n304\n305\n306\n311\n312\n326\n331\n332\n333\n377\n378\n379\n380\n381\n418\n419\n420\n423\n441\n458\n459\n521\n522\n526\n527\n528\n533\n556\n557\n558\n573\n604\n606\n610\n611\n612\n628\n629\n630\n641\n642\n655\n656\n657\n760\n761\n819\n820\n821\n825\n855\n856\n857\n903\n910\n913\n934\n967\n968\n969\n987\n989\n1051\n1052\n1053\n1062\n1063\n1064\n1065\n1083\n1084\n1085\n1094\n1095\n1096\n1097\n1100\n1101\n1106\n1107\n1109\n1126\n1127\n1128\n1129\n1146\n1147\n1148\n1149\n1155\n1156\n1157\n1207\n1208\n1214\n1262\n1263\n1274\n1275\n1276\n1277\n1278\n1279\n1280\n1281\n1351\n1352\n1353\n1355\n1356\n1357\n1363\n1365\n1415\n1417\n1428\n1429\n1487\n1492\n1499\n1522\n1523\n1524\n1525\n1538\n1539\n1540\n1541\n1589\n1634\n1635\n1636\n1637\n1643\n1653\n1665\n1674\n1675\n1676\n1677\n1687\n1696\n1697\n1700\n1730\n1731\n1732\n1733\n1755\n1758\n1767\n1768\n1774\n1775\n1776\n1777\n1778\n1788\n1805\n1806\n1807\n1808\n1815\n1816\n1817\n1818\n1820\n1821\n1822\n1823\n1879\n1880\n1881\n1882\n1883\n1894\n1896\n1897\n1898\n1900\n1930\n1932\n1957\n1958\n1959\n1960\n1961\n1962\n1963\n1986\n2005\n2006\n2064\n2066\n2068\n2078\n2084\n2085\n2086\n2087\n2088\n2094\n2095\n2097\n2111\n2113\n2115\n2116\n2117\n2118\n2155\n2156\n2158\n2169\n2170\n2171\n2172\n2173\n2193\n2286\n2320\n2321\n2322\n2323\n2326\n2327\n2329\n2333\n2349\n2352\n2374\n2395\n2414\n2415\n2416\n2417\n2418\n2420\n2423\n2431\n2432\n2433\n2440\n2480\n2481\n2482\n2483\n2493\n2539\n2540\n2541\n2542\n2543\n2554\n2555\n2556\n2557\n2558\n2569\n2570\n2571\n2572\n2573\n2680\n2690\n2691\n2692\n2693\n2699\n2700\n2701\n2702\n2703\n2735\n2736\n2737\n2738\n2749\n2750\n2751\n2752\n2753\n2761\n2762\n2763\n2800\n2801\n2802\n2803\n2804\n2805\n2806\n2807\n2808\n2854\n2855\n2856\n2857\n2858\n2884\n2885\n2886\n2887\n2888\n2914\n2915\n2916\n2917\n2927\n2939\n2940\n2941\n2942\n2943\n2944\n2945\n2946\n2947\n2948\n2955\n2956\n2957\n2958\n2999\n3000\n3001\n3002\n3003\n3010\n3011\n3012\n3020\n3021\n3022\n3023\n3080\n3081\n3082\n3083\n3099\n3100\n3101\n3102\n3103\n3104\n3105\n3106\n3107\n3108\n3144\n3145\n3146\n3147\n3148\n3199\n3201\n3202\n3203\n3210\n3211\n3212\n3213\n3226\n3234\n3235\n3236\n3237\n3238\n3241\n3251\n3290\n3291\n3292\n3329\n3330\n3332\n3335\n3336\n3337\n3338\n3346\n3349\n3350\n3351\n3352\n3353\n3369\n3370\n3371\n3373\n3380\n3381\n3382\n3383\n3384\n3385\n3387\n3418\n3434\n3435\n3436\n3437\n3438\n3439\n3452\n3453\n3454\n3455\n3456\n3457\n3503\n3519\n3521\n3522\n3523\n3528\n3573\n3590\n3591\n3592\n3593\n3594\n3595\n3608\n3609\n3610\n3611\n3612\n3613\n3644\n3645\n3646\n3647\n3648\n3649\n3657\n3659\n3660\n3661\n3663\n3664\n3665\n3666\n3667\n3668\n3677\n3678\n3679\n3680\n3681\n3682\n3690\n3691\n3692\n3693\n3694\n3695\n3696\n3727\n3754\n3755\n3756\n3757\n3758\n3759\n3768\n3769\n3770\n3771\n3772\n3773\n3788\n3789\n3790\n3791\n3792\n3793\n3794\n3803\n3804\n3805\n3806\n3807\n3808\n3810\n3811\n3812\n3813\n3814\n3815\n3828\n3829\n3842\n3852\n3853\n3854\n3855\n3856\n3857\n3872\n3873\n3874\n3875\n3876\n3877\n3878\n3886\n3887\n3888\n3889\n3890\n3891\n3892\n3900\n3901\n3902\n3903\n3904\n3905\n3906\n3913\n3921\n3922\n3923\n3924\n3925\n3926\n3927\n3935\n3936\n3937\n3938\n3940\n3941\n3964\n3965\n3966\n3967\n3968\n3969\n3972\n3973\n3975\n3976\n3992\n3993\n3994\n3995\n3996\n3997\n4036\n4037\n4080\n4082\n4086\n4118\n4131\n4208\n4209\n4210\n4212\n4213\n4214\n4215\n4241\n4242\n4243\n4244\n4245\n4246\n4247\n4250\n4251\n4252\n4253\n4254\n4255\n4269\n4331\n4339\n4342\n4343\n4362\n4363\n4364\n4365\n4366\n4367\n4376\n4377\n4378\n4379\n4380\n4381\n4382\n4383\n4512\n4513\n4514\n4515\n4516\n4517\n4518\n4519\n4598\n4599\n4600\n4601\n4602\n4603\n4604\n4605\n4622\n4635\n4636\n4638\n4639\n4641\n4647\n4678\n4679\n4680\n4681\n4682\n4683\n4684\n4685\n4686\n4706\n4707\n4709\n4710\n4711\n4712\n4713\n4741\n4742\n4743\n4744\n4745\n4746\n4747\n4748\n4751\n4756\n4757\n4771\n4774\n4775\n4776\n4802\n4806\n4814\n4815\n4828\n4829\n4830\n4886\n4887\n4888\n4889\n4890\n4891\n4892\n4893\n4903\n4904\n4905\n4906\n4907\n4908\n4909\n4910\n4911\n4965\n4967\n4968\n4969\n4970\n4971\n4972\n4973\n4974\n4984\n4985\n4986\n4987\n4988\n4989\n4990\n4991\n4992\n5020\n5021\n5022\n5023\n5024\n5025\n5026\n5027\n5028\n5052\n5053\n5054\n5055\n5056\n5057\n5059\n5061\n5062\n5063\n5064\n5084\n5085\n5086\n5088\n5089\n5090\n5091\n5141\n5142\n5143\n5145\n5176\n5177\n5178\n5179\n5180\n5181\n5182\n5183\n5184\n5185\n5186\n5187\n5188\n5189\n5190\n5200\n5201\n5202\n5203\n5204\n5205\n5206\n5207\n5208\n5227\n5229\n5230\n5231\n5232\n5233\n5234\n5235\n5291\n5292\n5293\n5294\n5295\n5296\n5297\n5298\n5309\n5310\n5311\n5312\n5313\n5314\n5315\n5316\n5340\n5354\n5355\n5356\n5357\n5359\n5360\n5362\n5363\n5364\n5365\n5366\n5368\n5369\n5370\n5380\n5381\n5382\n5383\n5384\n5385\n5386\n5387\n5388\n5435\n5439\n5440\n5441\n5442\n5486\n5489\n5490\n5492\n5494\n5495\n5496\n5540\n5542\n5544\n5545\n5546\n5547\n5548\n5549\n5550\n5569\n5570\n5571\n5572\n5573\n5574\n5575\n5576\n5577\n5640\n5641\n5642\n5643\n5644\n5646\n5647\n5648\n5649\n5650\n5651\n5652\n5653\n5654\n5667\n5736\n5737\n5738\n5739\n5740\n5741\n5742\n5743\n5744\n5745\n5748\n5749\n5750\n5751\n5752\n5753\n5754\n5776\n5777\n5778\n5779\n5780\n5781\n5782\n5783\n5784\n5796\n5807\n5808\n5811\n5815\n5816\n5817\n5818\n5819\n5820\n5821\n5822\n5823\n5824\n5894\n5896\n5897\n5898\n5899\n5900\n5901\n5902\n5903\n5904\n5920\n5935\n5936\n5937\n5938\n5939\n5940\n5941\n5942\n5943\n5944\n5945\n5946\n5947\n5948\n5949\n5950\n5951\n5952\n5953\n5954\n5970\n6026\n6027\n6028\n6029\n6030\n6031\n6032\n6033\n6034\n6060\n6077\n6078\n6079\n6080\n6081\n6082\n6083\n6084\n6129\n6149\n6164\n6165\n6166\n6167\n6168\n6169\n6170\n6171\n6172\n6173\n6174\n6246\n6256\n6257\n6258\n6259\n6260\n6261\n6262\n6263\n6264\n6318\n6319\n6320\n6321\n6323\n6324\n6342\n6376\n6448\n6453\n6459\n6486\n6487\n6488\n6489\n6491\n6492\n6493\n6494\n6516\n6517\n6518\n6519\n6520\n6521\n6522\n6523\n6524\n6526\n6527\n6528\n6529\n6531\n6532\n6533\n6534\n6547\n6549\n6550\n6551\n6552\n6553\n6554\n6566\n6567\n6568\n6569\n6570\n6571\n6572\n6573\n6574\n\nHay 1048 audios por debajo de 2.9605442177 segundos\n[1, 5, 12, 22, 41, 42, 50, 70, 85, 86, 89, 90, 106, 128, 135, 136, 148, 179, 180, 185, 203, 204, 205, 206, 207, 241, 242, 243, 244, 247, 248, 249, 274, 275, 276, 282, 292, 298, 299, 300, 301, 302, 303, 304, 305, 306, 311, 312, 326, 331, 332, 333, 377, 378, 379, 380, 381, 418, 419, 420, 423, 441, 458, 459, 521, 522, 526, 527, 528, 533, 556, 557, 558, 573, 604, 606, 610, 611, 612, 628, 629, 630, 641, 642, 655, 656, 657, 760, 761, 819, 820, 821, 825, 855, 856, 857, 903, 910, 913, 934, 967, 968, 969, 987, 989, 1051, 1052, 1053, 1062, 1063, 1064, 1065, 1083, 1084, 1085, 1094, 1095, 1096, 1097, 1100, 1101, 1106, 1107, 1109, 1126, 1127, 1128, 1129, 1146, 1147, 1148, 1149, 1155, 1156, 1157, 1207, 1208, 1214, 1262, 1263, 1274, 1275, 1276, 1277, 1278, 1279, 1280, 1281, 1351, 1352, 1353, 1355, 1356, 1357, 1363, 1365, 1415, 1417, 1428, 1429, 1487, 1492, 1499, 1522, 1523, 1524, 1525, 1538, 1539, 1540, 1541, 1589, 1634, 1635, 1636, 1637, 1643, 1653, 1665, 1674, 1675, 1676, 1677, 1687, 1696, 1697, 1700, 1730, 1731, 1732, 1733, 1755, 1758, 1767, 1768, 1774, 1775, 1776, 1777, 1778, 1788, 1805, 1806, 1807, 1808, 1815, 1816, 1817, 1818, 1820, 1821, 1822, 1823, 1879, 1880, 1881, 1882, 1883, 1894, 1896, 1897, 1898, 1900, 1930, 1932, 1957, 1958, 1959, 1960, 1961, 1962, 1963, 1986, 2005, 2006, 2064, 2066, 2068, 2078, 2084, 2085, 2086, 2087, 2088, 2094, 2095, 2097, 2111, 2113, 2115, 2116, 2117, 2118, 2155, 2156, 2158, 2169, 2170, 2171, 2172, 2173, 2193, 2286, 2320, 2321, 2322, 2323, 2326, 2327, 2329, 2333, 2349, 2352, 2374, 2395, 2414, 2415, 2416, 2417, 2418, 2420, 2423, 2431, 2432, 2433, 2440, 2480, 2481, 2482, 2483, 2493, 2539, 2540, 2541, 2542, 2543, 2554, 2555, 2556, 2557, 2558, 2569, 2570, 2571, 2572, 2573, 2680, 2690, 2691, 2692, 2693, 2699, 2700, 2701, 2702, 2703, 2735, 2736, 2737, 2738, 2749, 2750, 2751, 2752, 2753, 2761, 2762, 2763, 2800, 2801, 2802, 2803, 2804, 2805, 2806, 2807, 2808, 2854, 2855, 2856, 2857, 2858, 2884, 2885, 2886, 2887, 2888, 2914, 2915, 2916, 2917, 2927, 2939, 2940, 2941, 2942, 2943, 2944, 2945, 2946, 2947, 2948, 2955, 2956, 2957, 2958, 2999, 3000, 3001, 3002, 3003, 3010, 3011, 3012, 3020, 3021, 3022, 3023, 3080, 3081, 3082, 3083, 3099, 3100, 3101, 3102, 3103, 3104, 3105, 3106, 3107, 3108, 3144, 3145, 3146, 3147, 3148, 3199, 3201, 3202, 3203, 3210, 3211, 3212, 3213, 3226, 3234, 3235, 3236, 3237, 3238, 3241, 3251, 3290, 3291, 3292, 3329, 3330, 3332, 3335, 3336, 3337, 3338, 3346, 3349, 3350, 3351, 3352, 3353, 3369, 3370, 3371, 3373, 3380, 3381, 3382, 3383, 3384, 3385, 3387, 3418, 3434, 3435, 3436, 3437, 3438, 3439, 3452, 3453, 3454, 3455, 3456, 3457, 3503, 3519, 3521, 3522, 3523, 3528, 3573, 3590, 3591, 3592, 3593, 3594, 3595, 3608, 3609, 3610, 3611, 3612, 3613, 3644, 3645, 3646, 3647, 3648, 3649, 3657, 3659, 3660, 3661, 3663, 3664, 3665, 3666, 3667, 3668, 3677, 3678, 3679, 3680, 3681, 3682, 3690, 3691, 3692, 3693, 3694, 3695, 3696, 3727, 3754, 3755, 3756, 3757, 3758, 3759, 3768, 3769, 3770, 3771, 3772, 3773, 3788, 3789, 3790, 3791, 3792, 3793, 3794, 3803, 3804, 3805, 3806, 3807, 3808, 3810, 3811, 3812, 3813, 3814, 3815, 3828, 3829, 3842, 3852, 3853, 3854, 3855, 3856, 3857, 3872, 3873, 3874, 3875, 3876, 3877, 3878, 3886, 3887, 3888, 3889, 3890, 3891, 3892, 3900, 3901, 3902, 3903, 3904, 3905, 3906, 3913, 3921, 3922, 3923, 3924, 3925, 3926, 3927, 3935, 3936, 3937, 3938, 3940, 3941, 3964, 3965, 3966, 3967, 3968, 3969, 3972, 3973, 3975, 3976, 3992, 3993, 3994, 3995, 3996, 3997, 4036, 4037, 4080, 4082, 4086, 4118, 4131, 4208, 4209, 4210, 4212, 4213, 4214, 4215, 4241, 4242, 4243, 4244, 4245, 4246, 4247, 4250, 4251, 4252, 4253, 4254, 4255, 4269, 4331, 4339, 4342, 4343, 4362, 4363, 4364, 4365, 4366, 4367, 4376, 4377, 4378, 4379, 4380, 4381, 4382, 4383, 4512, 4513, 4514, 4515, 4516, 4517, 4518, 4519, 4598, 4599, 4600, 4601, 4602, 4603, 4604, 4605, 4622, 4635, 4636, 4638, 4639, 4641, 4647, 4678, 4679, 4680, 4681, 4682, 4683, 4684, 4685, 4686, 4706, 4707, 4709, 4710, 4711, 4712, 4713, 4741, 4742, 4743, 4744, 4745, 4746, 4747, 4748, 4751, 4756, 4757, 4771, 4774, 4775, 4776, 4802, 4806, 4814, 4815, 4828, 4829, 4830, 4886, 4887, 4888, 4889, 4890, 4891, 4892, 4893, 4903, 4904, 4905, 4906, 4907, 4908, 4909, 4910, 4911, 4965, 4967, 4968, 4969, 4970, 4971, 4972, 4973, 4974, 4984, 4985, 4986, 4987, 4988, 4989, 4990, 4991, 4992, 5020, 5021, 5022, 5023, 5024, 5025, 5026, 5027, 5028, 5052, 5053, 5054, 5055, 5056, 5057, 5059, 5061, 5062, 5063, 5064, 5084, 5085, 5086, 5088, 5089, 5090, 5091, 5141, 5142, 5143, 5145, 5176, 5177, 5178, 5179, 5180, 5181, 5182, 5183, 5184, 5185, 5186, 5187, 5188, 5189, 5190, 5200, 5201, 5202, 5203, 5204, 5205, 5206, 5207, 5208, 5227, 5229, 5230, 5231, 5232, 5233, 5234, 5235, 5291, 5292, 5293, 5294, 5295, 5296, 5297, 5298, 5309, 5310, 5311, 5312, 5313, 5314, 5315, 5316, 5340, 5354, 5355, 5356, 5357, 5359, 5360, 5362, 5363, 5364, 5365, 5366, 5368, 5369, 5370, 5380, 5381, 5382, 5383, 5384, 5385, 5386, 5387, 5388, 5435, 5439, 5440, 5441, 5442, 5486, 5489, 5490, 5492, 5494, 5495, 5496, 5540, 5542, 5544, 5545, 5546, 5547, 5548, 5549, 5550, 5569, 5570, 5571, 5572, 5573, 5574, 5575, 5576, 5577, 5640, 5641, 5642, 5643, 5644, 5646, 5647, 5648, 5649, 5650, 5651, 5652, 5653, 5654, 5667, 5736, 5737, 5738, 5739, 5740, 5741, 5742, 5743, 5744, 5745, 5748, 5749, 5750, 5751, 5752, 5753, 5754, 5776, 5777, 5778, 5779, 5780, 5781, 5782, 5783, 5784, 5796, 5807, 5808, 5811, 5815, 5816, 5817, 5818, 5819, 5820, 5821, 5822, 5823, 5824, 5894, 5896, 5897, 5898, 5899, 5900, 5901, 5902, 5903, 5904, 5920, 5935, 5936, 5937, 5938, 5939, 5940, 5941, 5942, 5943, 5944, 5945, 5946, 5947, 5948, 5949, 5950, 5951, 5952, 5953, 5954, 5970, 6026, 6027, 6028, 6029, 6030, 6031, 6032, 6033, 6034, 6060, 6077, 6078, 6079, 6080, 6081, 6082, 6083, 6084, 6129, 6149, 6164, 6165, 6166, 6167, 6168, 6169, 6170, 6171, 6172, 6173, 6174, 6246, 6256, 6257, 6258, 6259, 6260, 6261, 6262, 6263, 6264, 6318, 6319, 6320, 6321, 6323, 6324, 6342, 6376, 6448, 6453, 6459, 6486, 6487, 6488, 6489, 6491, 6492, 6493, 6494, 6516, 6517, 6518, 6519, 6520, 6521, 6522, 6523, 6524, 6526, 6527, 6528, 6529, 6531, 6532, 6533, 6534, 6547, 6549, 6550, 6551, 6552, 6553, 6554, 6566, 6567, 6568, 6569, 6570, 6571, 6572, 6573, 6574]\n"
     ]
    }
   ],
   "source": [
    "#Veo cuáles son los audios que tengo que mover\n",
    "i=0\n",
    "t=-1\n",
    "min_duracion = 65280/22050\n",
    "to_move = []\n",
    "for largo in duracion:\n",
    "    t+=1\n",
    "    if largo<min_duracion:\n",
    "        to_move.append(t)\n",
    "        print(t)\n",
    "        i+=1\n",
    "    else:\n",
    "        pass\n",
    "print(f'\\nHay {i} audios por debajo de 2.9605442177 segundos')\n",
    "print(to_move)"
   ]
  },
  {
   "cell_type": "code",
   "execution_count": 24,
   "metadata": {
    "tags": [
     "outputPrepend"
    ]
   },
   "outputs": [
    {
     "output_type": "stream",
     "name": "stdout",
     "text": [
      "e llama common_voice_es_22039769.mp3 y tiene un largo de 2.28\n",
      "El audio se llama common_voice_es_22039995.mp3 y tiene un largo de 2.4\n",
      "El audio se llama common_voice_es_22039998.mp3 y tiene un largo de 2.6640362811791385\n",
      "El audio se llama common_voice_es_22040001.mp3 y tiene un largo de 1.8480272108843538\n",
      "El audio se llama common_voice_es_22040003.mp3 y tiene un largo de 1.9680272108843537\n",
      "El audio se llama common_voice_es_22040004.mp3 y tiene un largo de 2.0160090702947846\n",
      "El audio se llama common_voice_es_19861103.mp3 y tiene un largo de 2.6160090702947847\n",
      "El audio se llama common_voice_es_21946691.mp3 y tiene un largo de 2.64\n",
      "El audio se llama common_voice_es_21946692.mp3 y tiene un largo de 2.2320181405895694\n",
      "El audio se llama common_voice_es_21946693.mp3 y tiene un largo de 2.1360090702947847\n",
      "El audio se llama common_voice_es_21946694.mp3 y tiene un largo de 2.568027210884354\n",
      "El audio se llama common_voice_es_21946822.mp3 y tiene un largo de 2.832018140589569\n",
      "El audio se llama common_voice_es_21946824.mp3 y tiene un largo de 2.688027210884354\n",
      "El audio se llama common_voice_es_22000621.mp3 y tiene un largo de 2.568027210884354\n",
      "El audio se llama common_voice_es_22000622.mp3 y tiene un largo de 2.6160090702947847\n",
      "El audio se llama common_voice_es_22000623.mp3 y tiene un largo de 2.2560090702947844\n",
      "El audio se llama common_voice_es_22000624.mp3 y tiene un largo de 2.4\n",
      "El audio se llama common_voice_es_22000659.mp3 y tiene un largo de 2.472018140589569\n",
      "El audio se llama common_voice_es_22000661.mp3 y tiene un largo de 2.3760090702947845\n",
      "El audio se llama common_voice_es_22000662.mp3 y tiene un largo de 2.64\n",
      "El audio se llama common_voice_es_22000668.mp3 y tiene un largo de 2.568027210884354\n",
      "El audio se llama common_voice_es_21980371.mp3 y tiene un largo de 2.4240362811791383\n",
      "El audio se llama common_voice_es_21980374.mp3 y tiene un largo de 2.2320181405895694\n",
      "El audio se llama common_voice_es_21980377.mp3 y tiene un largo de 2.4240362811791383\n",
      "El audio se llama common_voice_es_21980382.mp3 y tiene un largo de 2.04\n",
      "El audio se llama common_voice_es_21980385.mp3 y tiene un largo de 2.304036281179138\n",
      "El audio se llama common_voice_es_21980401.mp3 y tiene un largo de 2.28\n",
      "El audio se llama common_voice_es_21980407.mp3 y tiene un largo de 1.68\n",
      "El audio se llama common_voice_es_21980412.mp3 y tiene un largo de 1.8\n",
      "El audio se llama common_voice_es_21980416.mp3 y tiene un largo de 1.6080272108843536\n",
      "El audio se llama common_voice_es_22018080.mp3 y tiene un largo de 2.952018140589569\n",
      "El audio se llama common_voice_es_22018120.mp3 y tiene un largo de 2.6640362811791385\n",
      "El audio se llama common_voice_es_22018122.mp3 y tiene un largo de 2.76\n",
      "El audio se llama common_voice_es_22018123.mp3 y tiene un largo de 2.76\n",
      "El audio se llama common_voice_es_22018124.mp3 y tiene un largo de 2.64\n",
      "El audio se llama common_voice_es_19616422.mp3 y tiene un largo de 2.952018140589569\n",
      "El audio se llama common_voice_es_21995674.mp3 y tiene un largo de 2.5920181405895693\n",
      "El audio se llama common_voice_es_21995677.mp3 y tiene un largo de 2.4960090702947846\n",
      "El audio se llama common_voice_es_21995679.mp3 y tiene un largo de 2.8080272108843536\n",
      "El audio se llama common_voice_es_21995883.mp3 y tiene un largo de 2.784036281179138\n",
      "El audio se llama common_voice_es_21995889.mp3 y tiene un largo de 2.5440362811791384\n",
      "El audio se llama common_voice_es_21995972.mp3 y tiene un largo de 1.8480272108843538\n",
      "El audio se llama common_voice_es_19950671.mp3 y tiene un largo de 2.64\n",
      "El audio se llama common_voice_es_21976910.mp3 y tiene un largo de 2.1120181405895693\n",
      "El audio se llama common_voice_es_21977572.mp3 y tiene un largo de 2.9280272108843537\n",
      "El audio se llama common_voice_es_21977590.mp3 y tiene un largo de 1.872018140589569\n",
      "El audio se llama common_voice_es_21977595.mp3 y tiene un largo de 1.7040362811791383\n",
      "El audio se llama common_voice_es_21977603.mp3 y tiene un largo de 1.872018140589569\n",
      "El audio se llama common_voice_es_21977626.mp3 y tiene un largo de 1.632018140589569\n",
      "El audio se llama common_voice_es_21977634.mp3 y tiene un largo de 1.8240362811791384\n",
      "El audio se llama common_voice_es_21977967.mp3 y tiene un largo de 2.1120181405895693\n",
      "El audio se llama common_voice_es_21937914.mp3 y tiene un largo de 2.8560090702947845\n",
      "El audio se llama common_voice_es_21937915.mp3 y tiene un largo de 2.832018140589569\n",
      "El audio se llama common_voice_es_21937916.mp3 y tiene un largo de 2.16\n",
      "El audio se llama common_voice_es_21937917.mp3 y tiene un largo de 2.0640362811791384\n",
      "El audio se llama common_voice_es_21937918.mp3 y tiene un largo de 2.208027210884354\n",
      "El audio se llama common_voice_es_21937927.mp3 y tiene un largo de 2.0160090702947846\n",
      "El audio se llama common_voice_es_21937928.mp3 y tiene un largo de 2.1360090702947847\n",
      "El audio se llama common_voice_es_21937929.mp3 y tiene un largo de 2.2320181405895694\n",
      "El audio se llama common_voice_es_21937930.mp3 y tiene un largo de 2.2320181405895694\n",
      "El audio se llama common_voice_es_21941135.mp3 y tiene un largo de 2.688027210884354\n",
      "El audio se llama common_voice_es_21941136.mp3 y tiene un largo de 2.4960090702947846\n",
      "El audio se llama common_voice_es_21941137.mp3 y tiene un largo de 2.2560090702947844\n",
      "El audio se llama common_voice_es_21941138.mp3 y tiene un largo de 2.4240362811791383\n",
      "El audio se llama common_voice_es_21941139.mp3 y tiene un largo de 2.2320181405895694\n",
      "El audio se llama common_voice_es_22036988.mp3 y tiene un largo de 1.9920181405895692\n",
      "El audio se llama common_voice_es_22036995.mp3 y tiene un largo de 2.2320181405895694\n",
      "El audio se llama common_voice_es_22037000.mp3 y tiene un largo de 2.0640362811791384\n",
      "El audio se llama common_voice_es_22037001.mp3 y tiene un largo de 2.1360090702947847\n",
      "El audio se llama common_voice_es_22037023.mp3 y tiene un largo de 2.0160090702947846\n",
      "El audio se llama common_voice_es_22037024.mp3 y tiene un largo de 2.2320181405895694\n",
      "El audio se llama common_voice_es_22037026.mp3 y tiene un largo de 2.304036281179138\n",
      "El audio se llama common_voice_es_22037027.mp3 y tiene un largo de 2.1360090702947847\n",
      "El audio se llama common_voice_es_22037028.mp3 y tiene un largo de 2.2560090702947844\n",
      "El audio se llama common_voice_es_18538367.mp3 y tiene un largo de 2.9040362811791383\n",
      "El audio se llama common_voice_es_21941782.mp3 y tiene un largo de 2.2560090702947844\n",
      "El audio se llama common_voice_es_21941783.mp3 y tiene un largo de 2.4\n",
      "El audio se llama common_voice_es_21941784.mp3 y tiene un largo de 1.9920181405895692\n",
      "El audio se llama common_voice_es_21941785.mp3 y tiene un largo de 2.2560090702947844\n",
      "El audio se llama common_voice_es_21941858.mp3 y tiene un largo de 2.2320181405895694\n",
      "El audio se llama common_voice_es_21941860.mp3 y tiene un largo de 1.8480272108843538\n",
      "El audio se llama common_voice_es_21941862.mp3 y tiene un largo de 2.1360090702947847\n",
      "El audio se llama common_voice_es_21941863.mp3 y tiene un largo de 2.1120181405895693\n",
      "El audio se llama common_voice_es_21941865.mp3 y tiene un largo de 2.1120181405895693\n",
      "El audio se llama common_voice_es_22004708.mp3 y tiene un largo de 2.6640362811791385\n",
      "El audio se llama common_voice_es_22004712.mp3 y tiene un largo de 2.64\n",
      "El audio se llama common_voice_es_22004713.mp3 y tiene un largo de 2.736009070294785\n",
      "El audio se llama common_voice_es_22004798.mp3 y tiene un largo de 2.6160090702947847\n",
      "El audio se llama common_voice_es_22004799.mp3 y tiene un largo de 2.472018140589569\n",
      "El audio se llama common_voice_es_22004800.mp3 y tiene un largo de 2.3760090702947845\n",
      "El audio se llama common_voice_es_22004801.mp3 y tiene un largo de 2.5440362811791384\n",
      "El audio se llama common_voice_es_22004802.mp3 y tiene un largo de 2.4\n",
      "El audio se llama common_voice_es_22036252.mp3 y tiene un largo de 1.8960090702947845\n",
      "El audio se llama common_voice_es_22036254.mp3 y tiene un largo de 1.8\n",
      "El audio se llama common_voice_es_22036255.mp3 y tiene un largo de 1.872018140589569\n",
      "El audio se llama common_voice_es_22036256.mp3 y tiene un largo de 1.8240362811791384\n",
      "El audio se llama common_voice_es_22036281.mp3 y tiene un largo de 1.6080272108843536\n",
      "El audio se llama common_voice_es_22036283.mp3 y tiene un largo de 1.7760090702947846\n",
      "El audio se llama common_voice_es_22036284.mp3 y tiene un largo de 1.7760090702947846\n",
      "El audio se llama common_voice_es_22036285.mp3 y tiene un largo de 1.7520181405895692\n",
      "El audio se llama common_voice_es_22036287.mp3 y tiene un largo de 2.28\n",
      "El audio se llama common_voice_es_18330891.mp3 y tiene un largo de 2.9040362811791383\n",
      "El audio se llama common_voice_es_18906236.mp3 y tiene un largo de 2.8080272108843536\n",
      "El audio se llama common_voice_es_18906237.mp3 y tiene un largo de 2.8080272108843536\n",
      "El audio se llama common_voice_es_18906250.mp3 y tiene un largo de 2.3760090702947845\n",
      "El audio se llama common_voice_es_21964462.mp3 y tiene un largo de 2.5920181405895693\n",
      "El audio se llama common_voice_es_21964464.mp3 y tiene un largo de 2.352018140589569\n",
      "El audio se llama common_voice_es_21964466.mp3 y tiene un largo de 2.4\n",
      "El audio se llama common_voice_es_21964467.mp3 y tiene un largo de 2.4240362811791383\n",
      "El audio se llama common_voice_es_21964471.mp3 y tiene un largo de 2.6160090702947847\n",
      "El audio se llama common_voice_es_21964629.mp3 y tiene un largo de 2.352018140589569\n",
      "El audio se llama common_voice_es_21964632.mp3 y tiene un largo de 2.2560090702947844\n",
      "El audio se llama common_voice_es_21964636.mp3 y tiene un largo de 2.4960090702947846\n",
      "El audio se llama common_voice_es_21995287.mp3 y tiene un largo de 2.9040362811791383\n",
      "El audio se llama common_voice_es_21995384.mp3 y tiene un largo de 2.5440362811791384\n",
      "El audio se llama common_voice_es_18369864.mp3 y tiene un largo de 2.9280272108843537\n",
      "El audio se llama common_voice_es_22022596.mp3 y tiene un largo de 2.736009070294785\n",
      "El audio se llama common_voice_es_22022598.mp3 y tiene un largo de 2.16\n",
      "El audio se llama common_voice_es_22022599.mp3 y tiene un largo de 2.304036281179138\n",
      "El audio se llama common_voice_es_22022601.mp3 y tiene un largo de 2.64\n",
      "El audio se llama common_voice_es_22022635.mp3 y tiene un largo de 2.2560090702947844\n",
      "El audio se llama common_voice_es_22022636.mp3 y tiene un largo de 2.1840362811791385\n",
      "El audio se llama common_voice_es_22022637.mp3 y tiene un largo de 2.304036281179138\n",
      "El audio se llama common_voice_es_22022638.mp3 y tiene un largo de 2.1360090702947847\n",
      "El audio se llama common_voice_es_22022639.mp3 y tiene un largo de 2.16\n",
      "El audio se llama common_voice_es_20247186.mp3 y tiene un largo de 2.9040362811791383\n",
      "El audio se llama common_voice_es_21921370.mp3 y tiene un largo de 1.9920181405895692\n",
      "El audio se llama common_voice_es_21921371.mp3 y tiene un largo de 2.5440362811791384\n",
      "El audio se llama common_voice_es_21921372.mp3 y tiene un largo de 2.2320181405895694\n",
      "El audio se llama common_voice_es_21921373.mp3 y tiene un largo de 1.9680272108843537\n",
      "El audio se llama common_voice_es_21921374.mp3 y tiene un largo de 2.1360090702947847\n",
      "El audio se llama common_voice_es_21921375.mp3 y tiene un largo de 2.0640362811791384\n",
      "El audio se llama common_voice_es_21921376.mp3 y tiene un largo de 1.872018140589569\n",
      "El audio se llama common_voice_es_21921377.mp3 y tiene un largo de 1.8960090702947845\n",
      "El audio se llama common_voice_es_21921378.mp3 y tiene un largo de 2.0640362811791384\n",
      "El audio se llama common_voice_es_21921379.mp3 y tiene un largo de 1.872018140589569\n",
      "El audio se llama common_voice_es_21966850.mp3 y tiene un largo de 1.9440362811791383\n",
      "El audio se llama common_voice_es_21966855.mp3 y tiene un largo de 2.352018140589569\n",
      "El audio se llama common_voice_es_21966863.mp3 y tiene un largo de 1.5840362811791384\n",
      "El audio se llama common_voice_es_21967075.mp3 y tiene un largo de 1.8480272108843538\n",
      "El audio se llama common_voice_es_21967097.mp3 y tiene un largo de 1.6560090702947845\n",
      "El audio se llama common_voice_es_21967101.mp3 y tiene un largo de 1.8480272108843538\n",
      "El audio se llama common_voice_es_21969776.mp3 y tiene un largo de 1.2720181405895692\n",
      "El audio se llama common_voice_es_21969779.mp3 y tiene un largo de 1.56\n",
      "El audio se llama common_voice_es_21969781.mp3 y tiene un largo de 1.5840362811791384\n",
      "El audio se llama common_voice_es_21969789.mp3 y tiene un largo de 1.68\n",
      "El audio se llama common_voice_es_19718595.mp3 y tiene un largo de 2.952018140589569\n",
      "El audio se llama common_voice_es_21969190.mp3 y tiene un largo de 2.7120181405895694\n",
      "El audio se llama common_voice_es_21969195.mp3 y tiene un largo de 2.64\n",
      "El audio se llama common_voice_es_21969260.mp3 y tiene un largo de 2.64\n",
      "El audio se llama common_voice_es_21969267.mp3 y tiene un largo de 2.3760090702947845\n",
      "El audio se llama common_voice_es_21969273.mp3 y tiene un largo de 2.5920181405895693\n",
      "El audio se llama common_voice_es_21969439.mp3 y tiene un largo de 2.208027210884354\n",
      "El audio se llama common_voice_es_21969444.mp3 y tiene un largo de 1.9440362811791383\n",
      "El audio se llama common_voice_es_21969448.mp3 y tiene un largo de 2.3760090702947845\n",
      "El audio se llama common_voice_es_21969451.mp3 y tiene un largo de 2.1840362811791385\n",
      "El audio se llama common_voice_es_18453890.mp3 y tiene un largo de 2.9040362811791383\n",
      "El audio se llama common_voice_es_22038442.mp3 y tiene un largo de 2.832018140589569\n",
      "El audio se llama common_voice_es_22038443.mp3 y tiene un largo de 2.832018140589569\n",
      "El audio se llama common_voice_es_22038444.mp3 y tiene un largo de 2.2320181405895694\n",
      "El audio se llama common_voice_es_22038466.mp3 y tiene un largo de 2.088027210884354\n",
      "El audio se llama common_voice_es_22038467.mp3 y tiene un largo de 1.9680272108843537\n",
      "El audio se llama common_voice_es_22038468.mp3 y tiene un largo de 1.872018140589569\n",
      "El audio se llama common_voice_es_22038470.mp3 y tiene un largo de 2.304036281179138\n",
      "El audio se llama common_voice_es_22038471.mp3 y tiene un largo de 2.208027210884354\n",
      "El audio se llama common_voice_es_21619287.mp3 y tiene un largo de 2.9518367346938774\n",
      "El audio se llama common_voice_es_19768641.mp3 y tiene un largo de 2.88\n",
      "El audio se llama common_voice_es_18960779.mp3 y tiene un largo de 1.8240362811791384\n",
      "El audio se llama common_voice_es_21986371.mp3 y tiene un largo de 2.7120181405895694\n",
      "El audio se llama common_voice_es_21986377.mp3 y tiene un largo de 2.1360090702947847\n",
      "El audio se llama common_voice_es_21986380.mp3 y tiene un largo de 2.952018140589569\n",
      "El audio se llama common_voice_es_21986600.mp3 y tiene un largo de 1.872018140589569\n",
      "El audio se llama common_voice_es_21986602.mp3 y tiene un largo de 2.0160090702947846\n",
      "El audio se llama common_voice_es_21986604.mp3 y tiene un largo de 1.8960090702947845\n",
      "El audio se llama common_voice_es_21986608.mp3 y tiene un largo de 1.9680272108843537\n",
      "El audio se llama common_voice_es_21986633.mp3 y tiene un largo de 2.4480272108843537\n",
      "El audio se llama common_voice_es_21986638.mp3 y tiene un largo de 2.2320181405895694\n",
      "El audio se llama common_voice_es_21986639.mp3 y tiene un largo de 2.2320181405895694\n",
      "El audio se llama common_voice_es_20303395.mp3 y tiene un largo de 2.2320181405895694\n",
      "El audio se llama common_voice_es_21969595.mp3 y tiene un largo de 2.9040362811791383\n",
      "El audio se llama common_voice_es_21969598.mp3 y tiene un largo de 2.52\n",
      "El audio se llama common_voice_es_21969599.mp3 y tiene un largo de 2.8080272108843536\n",
      "El audio se llama common_voice_es_21969602.mp3 y tiene un largo de 2.5440362811791384\n",
      "El audio se llama common_voice_es_21969636.mp3 y tiene un largo de 2.3760090702947845\n",
      "El audio se llama common_voice_es_21969637.mp3 y tiene un largo de 2.9040362811791383\n",
      "El audio se llama common_voice_es_21969638.mp3 y tiene un largo de 2.16\n",
      "El audio se llama common_voice_es_21969641.mp3 y tiene un largo de 2.0640362811791384\n",
      "El audio se llama common_voice_es_21969643.mp3 y tiene un largo de 2.1360090702947847\n",
      "El audio se llama common_voice_es_22026442.mp3 y tiene un largo de 2.304036281179138\n",
      "El audio se llama common_voice_es_22026443.mp3 y tiene un largo de 1.7280272108843537\n",
      "El audio se llama common_voice_es_22026444.mp3 y tiene un largo de 2.088027210884354\n",
      "El audio se llama common_voice_es_22026445.mp3 y tiene un largo de 2.2560090702947844\n",
      "El audio se llama common_voice_es_22026642.mp3 y tiene un largo de 2.4240362811791383\n",
      "El audio se llama common_voice_es_22026643.mp3 y tiene un largo de 2.5920181405895693\n",
      "El audio se llama common_voice_es_19067704.mp3 y tiene un largo de 2.6640362811791385\n",
      "El audio se llama common_voice_es_20246690.mp3 y tiene un largo de 2.6640362811791385\n",
      "El audio se llama common_voice_es_19026151.mp3 y tiene un largo de 2.1360090702947847\n",
      "El audio se llama common_voice_es_19026156.mp3 y tiene un largo de 2.64\n",
      "El audio se llama common_voice_es_19666690.mp3 y tiene un largo de 2.8560090702947845\n",
      "El audio se llama common_voice_es_21990310.mp3 y tiene un largo de 2.5920181405895693\n",
      "El audio se llama common_voice_es_21990311.mp3 y tiene un largo de 2.832018140589569\n",
      "El audio se llama common_voice_es_21990312.mp3 y tiene un largo de 2.3280272108843536\n",
      "El audio se llama common_voice_es_21990313.mp3 y tiene un largo de 2.52\n",
      "El audio se llama common_voice_es_21990493.mp3 y tiene un largo de 2.472018140589569\n",
      "El audio se llama common_voice_es_21990494.mp3 y tiene un largo de 2.6160090702947847\n",
      "El audio se llama common_voice_es_21990496.mp3 y tiene un largo de 2.352018140589569\n",
      "El audio se llama common_voice_es_21990498.mp3 y tiene un largo de 2.3280272108843536\n",
      "El audio se llama common_voice_es_21952028.mp3 y tiene un largo de 2.76\n",
      "El audio se llama common_voice_es_21952030.mp3 y tiene un largo de 2.88\n",
      "El audio se llama common_voice_es_21952032.mp3 y tiene un largo de 2.832018140589569\n",
      "El audio se llama common_voice_es_21952034.mp3 y tiene un largo de 2.952018140589569\n",
      "El audio se llama common_voice_es_21952219.mp3 y tiene un largo de 2.28\n",
      "El audio se llama common_voice_es_21952221.mp3 y tiene un largo de 2.1120181405895693\n",
      "El audio se llama common_voice_es_21952222.mp3 y tiene un largo de 2.04\n",
      "El audio se llama common_voice_es_21952224.mp3 y tiene un largo de 2.2320181405895694\n",
      "El audio se llama common_voice_es_21952225.mp3 y tiene un largo de 2.4240362811791383\n",
      "El audio se llama common_voice_es_21944191.mp3 y tiene un largo de 2.5920181405895693\n",
      "El audio se llama common_voice_es_21944192.mp3 y tiene un largo de 2.4960090702947846\n",
      "El audio se llama common_voice_es_21944193.mp3 y tiene un largo de 2.568027210884354\n",
      "El audio se llama common_voice_es_21944194.mp3 y tiene un largo de 2.208027210884354\n",
      "El audio se llama common_voice_es_21944219.mp3 y tiene un largo de 2.3760090702947845\n",
      "El audio se llama common_voice_es_21944221.mp3 y tiene un largo de 2.5440362811791384\n",
      "El audio se llama common_voice_es_21944223.mp3 y tiene un largo de 2.5920181405895693\n",
      "El audio se llama common_voice_es_21944225.mp3 y tiene un largo de 2.28\n",
      "El audio se llama common_voice_es_22002361.mp3 y tiene un largo de 2.8560090702947845\n",
      "El audio se llama common_voice_es_22002366.mp3 y tiene un largo de 2.5440362811791384\n",
      "El audio se llama common_voice_es_22002468.mp3 y tiene un largo de 2.304036281179138\n",
      "El audio se llama common_voice_es_22002469.mp3 y tiene un largo de 2.1120181405895693\n",
      "El audio se llama common_voice_es_22002470.mp3 y tiene un largo de 1.9920181405895692\n",
      "El audio se llama common_voice_es_22002471.mp3 y tiene un largo de 2.16\n",
      "El audio se llama common_voice_es_22002472.mp3 y tiene un largo de 2.1120181405895693\n",
      "El audio se llama common_voice_es_21966550.mp3 y tiene un largo de 2.6160090702947847\n",
      "El audio se llama common_voice_es_21966552.mp3 y tiene un largo de 2.9280272108843537\n",
      "El audio se llama common_voice_es_21966553.mp3 y tiene un largo de 2.832018140589569\n",
      "El audio se llama common_voice_es_21966600.mp3 y tiene un largo de 1.9920181405895692\n",
      "El audio se llama common_voice_es_21966601.mp3 y tiene un largo de 2.28\n",
      "El audio se llama common_voice_es_21966602.mp3 y tiene un largo de 2.1120181405895693\n",
      "El audio se llama common_voice_es_21966604.mp3 y tiene un largo de 2.8560090702947845\n",
      "El audio se llama common_voice_es_21966772.mp3 y tiene un largo de 2.04\n",
      "El audio se llama common_voice_es_21966777.mp3 y tiene un largo de 2.04\n"
     ]
    }
   ],
   "source": [
    "#Verifico si estos son los audios que están por debajo de los 2.9605442177 segundos y los separo para hacerles un padding de ceros y\n",
    "#usarlos para testing\n",
    "\n",
    "os.chdir(r'C:\\Users\\maxia\\Desktop\\Facultad\\Labo de acústica\\Codigo')\n",
    "audios = np.load('audios_validados.npy')\n",
    "\n",
    "os.chdir(r'C:\\Users\\maxia\\Desktop\\Facultad\\Labo de acústica\\Codigo\\2_audios')\n",
    "for t in to_move:\n",
    "    data = np.load(audios[t].split('.mp3')[0] + '.npy')\n",
    "    print(f'El audio se llama {audios[t]} y tiene un largo de {len(data)/22050}')"
   ]
  },
  {
   "cell_type": "code",
   "execution_count": 26,
   "metadata": {},
   "outputs": [
    {
     "output_type": "stream",
     "name": "stdout",
     "text": [
      "Se movieron 1048 audios\n"
     ]
    }
   ],
   "source": [
    "#Muevo estos audios para la carpeta de testing\n",
    "\n",
    "os.chdir(r'C:\\Users\\maxia\\Desktop\\Facultad\\Labo de acústica\\Codigo\\2_audios')\n",
    "path_to_move ='C:/Users/maxia/Desktop/Facultad/Labo de acústica/Codigo/3_audios_test'\n",
    "\n",
    "i=0\n",
    "\n",
    "\n",
    "for t in to_move:\n",
    "    i+=1\n",
    "    shutil.move(audios[t].split('.mp3')[0] + '.npy', path_to_move)\n",
    "\n",
    "print(f'Se movieron {i} audios')"
   ]
  },
  {
   "cell_type": "code",
   "execution_count": 28,
   "metadata": {},
   "outputs": [
    {
     "output_type": "stream",
     "name": "stdout",
     "text": [
      "common_voice_es_18307761.npy\ncommon_voice_es_22044272.npy\n"
     ]
    }
   ],
   "source": [
    "#Creo dos nuevos archivos con los nombres de los audios para testing y los audios para entrenar\n",
    "\n",
    "\n",
    "os.chdir(r'C:\\Users\\maxia\\Desktop\\Facultad\\Labo de acústica\\Codigo')\n",
    "\n",
    "audios_train = []\n",
    "\n",
    "for dir in glob.iglob('2_audios/common*', recursive=True):\n",
    "    audios_train.append(dir.split('\\\\')[1])\n",
    "\n",
    "audios_test = []\n",
    "\n",
    "for dir in glob.iglob('3_audios_test/common*', recursive=True):\n",
    "    audios_test.append(dir.split('\\\\')[1])\n",
    "\n",
    "np.save('audios_train', audios_train)\n",
    "np.save('audios_test', audios_test)\n",
    "\n",
    "print(audios_train[0])\n",
    "print(audios_test[-1])"
   ]
  },
  {
   "source": [
    "# Padding party: \n",
    "\n",
    "Agrego ceros a los audios de testing para tenerlos listos"
   ],
   "cell_type": "markdown",
   "metadata": {}
  },
  {
   "cell_type": "code",
   "execution_count": 40,
   "metadata": {},
   "outputs": [
    {
     "output_type": "stream",
     "name": "stdout",
     "text": [
      "Ahora los audios tienen 65280 muestras\n"
     ]
    }
   ],
   "source": [
    "os.chdir(r'C:\\Users\\maxia\\Desktop\\Facultad\\Labo de acústica\\Codigo\\3_audios_test')\n",
    "\n",
    "for audio in audios_test:\n",
    "\n",
    "    data = np.load(audio)\n",
    "    to_pad = int(65280 - len(data))\n",
    "    data = np.pad(data, (0, to_pad), mode='constant', constant_values=0)\n",
    "    np.save(audio.split('.npy')[0], data)\n",
    "\n",
    "print(f'Ahora los audios tienen {len(data)} muestras')"
   ]
  },
  {
   "source": [
    "# Cortando para entrenar:\n",
    "\n",
    "Ahora toca cortar los audios en pequeñas porciones para entrenar"
   ],
   "cell_type": "markdown",
   "metadata": {}
  },
  {
   "cell_type": "code",
   "execution_count": 3,
   "metadata": {},
   "outputs": [
    {
     "output_type": "stream",
     "name": "stdout",
     "text": [
      "common_voice_es_18307761.npy\n5552\n"
     ]
    }
   ],
   "source": [
    "os.chdir(r'C:\\Users\\maxia\\Desktop\\Facultad\\Labo de acústica\\Codigo')\n",
    "audios_train = np.load('audios_train.npy')\n",
    "print(audios_train[0])\n",
    "print(len(audios_train))"
   ]
  },
  {
   "cell_type": "code",
   "execution_count": 11,
   "metadata": {},
   "outputs": [
    {
     "output_type": "stream",
     "name": "stdout",
     "text": [
      "Cargando...\n",
      "Se cargaron 100 audios\n",
      "Se cargaron 200 audios\n",
      "Se cargaron 300 audios\n",
      "Se cargaron 400 audios\n",
      "Se cargaron 500 audios\n",
      "Se cargaron 600 audios\n",
      "Se cargaron 1100 audios\n",
      "Se cargaron 1300 audios\n",
      "Se cargaron 1400 audios\n",
      "Se cargaron 1700 audios\n",
      "Se cargaron 1800 audios\n",
      "Se cargaron 1900 audios\n",
      "Se cargaron 2000 audios\n",
      "Se cargaron 2100 audios\n",
      "Se cargaron 2300 audios\n",
      "Se cargaron 2400 audios\n",
      "Se cargaron 2800 audios\n",
      "Se cargaron 3000 audios\n",
      "Se cargaron 3100 audios\n",
      "Se cargaron 3300 audios\n",
      "Se cargaron 3500 audios\n",
      "Se cargaron 3800 audios\n",
      "Se cargaron 3900 audios\n",
      "Se cargaron 4000 audios\n",
      "Se cargaron 4700 audios\n",
      "Se cargaron 4800 audios\n",
      "Se cargaron 4900 audios\n",
      "Se cargaron 5000 audios\n",
      "Se cargaron 5100 audios\n",
      "Se cargaron 5200 audios\n",
      "Se cargaron 5300 audios\n",
      "Se cargaron 5500 audios\n",
      "Se cargaron 5500 audios\n",
      "Audios guardados en la carpeta 4_audios_train\n"
     ]
    }
   ],
   "source": [
    "#Guardo todos los audios pero ahora en archivos de 65280 segundos cada uno\n",
    "\n",
    "os.chdir(r'C:\\Users\\maxia\\Desktop\\Facultad\\Labo de acústica\\Codigo')\n",
    "sufijo=0\n",
    "i=-1\n",
    "cut = int(65280) #corte: SampleRate=16000 Hz, Quiero una resolución de 256 en la stft con n_fft=512 y hop_length=128 -> 32640 muestras\n",
    "\n",
    "print('Cargando...')\n",
    "\n",
    "u=0\n",
    "for audio in audios_train:\n",
    "    if u == 5500:\n",
    "        break\n",
    "\n",
    "    i+=1\n",
    "\n",
    "    data = np.load('2_audios/'+audio)\n",
    "    new_name = audio.split('.npy')[0]\n",
    "    \n",
    "    n_cut = int(len(data)/65280) #cantidad de cortes por audio, divido por 65280 para quedarme con esa cantidad de muestras\n",
    "    \n",
    "\n",
    "    for t in range(0,int(n_cut)):\n",
    "        sufijo+=1\n",
    "        save = data[int(cut*t) : int(cut*(t+1))]\n",
    "        np.save('4_audios_train/3-' + new_name + '_' + str(sufijo), save)\n",
    "\n",
    "    sufijo=0\n",
    "\n",
    "    u = u + n_cut\n",
    "\n",
    "    if (u%100) == 0:\n",
    "        print(f'Se cargaron {u} audios')\n",
    "    \n",
    "\n",
    "print(f'Se cargaron {u} audios')\n",
    "print('Audios guardados en la carpeta 4_audios_train')"
   ]
  },
  {
   "cell_type": "code",
   "execution_count": 42,
   "metadata": {},
   "outputs": [
    {
     "output_type": "execute_result",
     "data": {
      "text/plain": [
       "' Falta cortar los audios para el train, dsepués agregar ruido.'"
      ]
     },
     "metadata": {},
     "execution_count": 42
    }
   ],
   "source": [
    "\"\"\" Falta cortar los audios para el train, después agregar ruido.\n",
    "Voy a dejar la parte de separarlos en carpetas cuando cree las stft's.\"\"\""
   ]
  },
  {
   "source": [
    "# TODO LO DE ABAJO ES VIEJO !!!!"
   ],
   "cell_type": "markdown",
   "metadata": {}
  },
  {
   "source": [
    "Reviso las horas de entrenamiento que tengo y el largo de mis audios"
   ],
   "cell_type": "markdown",
   "metadata": {}
  },
  {
   "cell_type": "code",
   "execution_count": 4,
   "metadata": {},
   "outputs": [],
   "source": [
    "os.chdir(r'C:\\Users\\maxia\\Desktop\\Facultad\\Labo de acústica\\Codigo')\n",
    "duration = np.load('Duracion_audios.npy')"
   ]
  },
  {
   "cell_type": "code",
   "execution_count": 3,
   "metadata": {},
   "outputs": [
    {
     "output_type": "execute_result",
     "data": {
      "text/plain": [
       "12.096"
      ]
     },
     "metadata": {},
     "execution_count": 3
    }
   ],
   "source": [
    "np.max(duration)"
   ]
  },
  {
   "cell_type": "code",
   "execution_count": 4,
   "metadata": {},
   "outputs": [
    {
     "output_type": "execute_result",
     "data": {
      "text/plain": [
       "1.656"
      ]
     },
     "metadata": {},
     "execution_count": 4
    }
   ],
   "source": [
    "np.min(duration)"
   ]
  },
  {
   "cell_type": "code",
   "execution_count": 5,
   "metadata": {},
   "outputs": [
    {
     "output_type": "execute_result",
     "data": {
      "text/plain": [
       "6.005298000000001"
      ]
     },
     "metadata": {},
     "execution_count": 5
    }
   ],
   "source": [
    "np.mean(duration)"
   ]
  },
  {
   "cell_type": "code",
   "execution_count": 7,
   "metadata": {},
   "outputs": [
    {
     "output_type": "stream",
     "name": "stdout",
     "text": [
      "Segundos totales de los audios 120105.95999999961\nHoras totales de los audios 33.36276666666656\n"
     ]
    }
   ],
   "source": [
    "print(f'Segundos totales de los audios {sum(duration)}')\n",
    "print(f'Horas totales de los audios {sum(duration)/(60*60)}')"
   ]
  },
  {
   "source": [
    "# Pre-procesamiento: largo de los audios\n",
    "Ahora me toca cargar los audios y ver que todos tengan 32640 muestras para luego crear las STFT sin problema.\n",
    "Para ello:\n",
    "* Descarto todos los audios que duren menos de 2 segundos\n",
    "* Los audios que duren más de 2 segundos se recortan en partes de 2 segundos y se descartan las muestras sobrantes"
   ],
   "cell_type": "markdown",
   "metadata": {}
  },
  {
   "cell_type": "code",
   "execution_count": 2,
   "metadata": {},
   "outputs": [
    {
     "output_type": "stream",
     "name": "stdout",
     "text": [
      "common_voice_es_18307009.mp3.npy\ncommon_voice_es_20270350.mp3.npy\n"
     ]
    }
   ],
   "source": [
    "#Veo cuántos audios tienen menos de dos segundos.\n",
    "\n",
    "os.chdir(r'C:\\Users\\maxia\\Desktop\\Facultad\\Labo de acústica\\Codigo\\audios')\n",
    "\n",
    "audios_name = []\n",
    "\n",
    "for dir in glob.iglob('**/common*', recursive=True):\n",
    "    audios_name.append(dir)\n",
    "print(audios_name[0])\n",
    "print(audios_name[-1])"
   ]
  },
  {
   "cell_type": "code",
   "execution_count": 5,
   "metadata": {
    "tags": []
   },
   "outputs": [
    {
     "output_type": "stream",
     "name": "stdout",
     "text": [
      "35\n714\n1242\n1627\n1980\n2005\n2007\n3189\n3487\n3729\n7673\n11639\n14789\n\nHay 13 audios por debajo de 2 segundos\n[35, 714, 1242, 1627, 1980, 2005, 2007, 3189, 3487, 3729, 7673, 11639, 14789]\n"
     ]
    }
   ],
   "source": [
    "i=0\n",
    "t=-1\n",
    "to_drop = []\n",
    "for largo in duration:\n",
    "    t+=1\n",
    "    if largo<2:\n",
    "        to_drop.append(t)\n",
    "        print(t)\n",
    "        i+=1\n",
    "    else:\n",
    "        pass\n",
    "print(f'\\nHay {i} audios por debajo de 2 segundos')\n",
    "print(to_drop)"
   ]
  },
  {
   "cell_type": "code",
   "execution_count": 17,
   "metadata": {},
   "outputs": [
    {
     "output_type": "stream",
     "name": "stdout",
     "text": [
      "El audio se llama common_voice_es_18309711.mp3.npy y tiene un largo de 1.92\n",
      "El audio se llama common_voice_es_18491548.mp3.npy y tiene un largo de 1.68\n",
      "El audio se llama common_voice_es_18681299.mp3.npy y tiene un largo de 1.896\n",
      "El audio se llama common_voice_es_18825288.mp3.npy y tiene un largo de 1.896\n",
      "El audio se llama common_voice_es_18956986.mp3.npy y tiene un largo de 1.896\n",
      "El audio se llama common_voice_es_18960779.mp3.npy y tiene un largo de 1.824\n",
      "El audio se llama common_voice_es_18961283.mp3.npy y tiene un largo de 1.656\n",
      "El audio se llama common_voice_es_19150839.mp3.npy y tiene un largo de 1.824\n",
      "El audio se llama common_voice_es_19231881.mp3.npy y tiene un largo de 1.944\n",
      "El audio se llama common_voice_es_19376975.mp3.npy y tiene un largo de 1.992\n",
      "El audio se llama common_voice_es_19618433.mp3.npy y tiene un largo de 1.968\n",
      "El audio se llama common_voice_es_19843376.mp3.npy y tiene un largo de 1.776\n",
      "El audio se llama common_voice_es_20002783.mp3.npy y tiene un largo de 1.704\n"
     ]
    }
   ],
   "source": [
    "#Verifico si estos son los audios que están por debajo de los dos segundos y luego los elimino\n",
    "os.chdir(r'C:\\Users\\maxia\\Desktop\\Facultad\\Labo de acústica\\Codigo\\audios')\n",
    "for t in to_drop:\n",
    "    data = np.load(audios_name[t])\n",
    "    print(f'El audio se llama {audios_name[t]} y tiene un largo de {len(data)/16000}')\n"
   ]
  },
  {
   "cell_type": "code",
   "execution_count": 18,
   "metadata": {},
   "outputs": [
    {
     "output_type": "stream",
     "name": "stdout",
     "text": [
      "Se elimino el audio common_voice_es_18309711.mp3.npy\nSe elimino el audio common_voice_es_18491548.mp3.npy\nSe elimino el audio common_voice_es_18681299.mp3.npy\nSe elimino el audio common_voice_es_18825288.mp3.npy\nSe elimino el audio common_voice_es_18956986.mp3.npy\nSe elimino el audio common_voice_es_18960779.mp3.npy\nSe elimino el audio common_voice_es_18961283.mp3.npy\nSe elimino el audio common_voice_es_19150839.mp3.npy\nSe elimino el audio common_voice_es_19231881.mp3.npy\nSe elimino el audio common_voice_es_19376975.mp3.npy\nSe elimino el audio common_voice_es_19618433.mp3.npy\nSe elimino el audio common_voice_es_19843376.mp3.npy\nSe elimino el audio common_voice_es_20002783.mp3.npy\n"
     ]
    }
   ],
   "source": [
    "#Efectivamente son estos, toca eliminarlos!!!\n",
    "#Para esto uso os.remove\n",
    "os.chdir(r'C:\\Users\\maxia\\Desktop\\Facultad\\Labo de acústica\\Codigo\\audios')\n",
    "for t in to_drop:\n",
    "    os.remove(audios_name[t])\n",
    "    print(f'Se elimino el audio {audios_name[t]}')"
   ]
  },
  {
   "cell_type": "code",
   "execution_count": 12,
   "metadata": {},
   "outputs": [
    {
     "output_type": "stream",
     "name": "stdout",
     "text": [
      "Cargando...\n",
      "El audio más corto ahora dura 2.016 segundos\n"
     ]
    }
   ],
   "source": [
    "#Reviso si ahora estoy dentro con todos los audios bien\n",
    "\n",
    "os.chdir(r'C:\\Users\\maxia\\Desktop\\Facultad\\Labo de acústica\\Codigo\\audios')\n",
    "\n",
    "new_duration = []\n",
    "\n",
    "audios_name_new = []\n",
    "\n",
    "for dir in glob.iglob('**/common*', recursive=True):\n",
    "    audios_name_new.append(dir)\n",
    "\n",
    "print('Cargando...')\n",
    "for audio in audios_name_new:\n",
    "    data = np.load(audio)\n",
    "    new_duration.append(len(data)/16000)\n",
    "\n",
    "print(f'El audio más corto ahora dura {min(new_duration)} segundos')"
   ]
  },
  {
   "cell_type": "code",
   "execution_count": 13,
   "metadata": {},
   "outputs": [],
   "source": [
    "os.chdir(r'C:\\Users\\maxia\\Desktop\\Facultad\\Labo de acústica\\Codigo')\n",
    "np.save('new_duration.npy', new_duration)"
   ]
  },
  {
   "cell_type": "code",
   "execution_count": 17,
   "metadata": {},
   "outputs": [
    {
     "output_type": "stream",
     "name": "stdout",
     "text": [
      "3135 2.016\n\nHay 1 audios por debajo de 2.04 segundos\n[3135]\n"
     ]
    }
   ],
   "source": [
    "#Verifico si hay audios por debajo de 2.04 segundos\n",
    "i=0\n",
    "t=-1\n",
    "to_drop = []\n",
    "new_duration = np.load('new_duration.npy')\n",
    "for largo in new_duration:\n",
    "    t+=1\n",
    "    if largo<2.04:\n",
    "        to_drop.append(t)\n",
    "        print(t, largo)\n",
    "        i+=1\n",
    "    else:\n",
    "        pass\n",
    "print(f'\\nHay {i} audios por debajo de 2.04 segundos')\n",
    "print(to_drop)"
   ]
  },
  {
   "cell_type": "code",
   "execution_count": 18,
   "metadata": {},
   "outputs": [
    {
     "output_type": "stream",
     "name": "stdout",
     "text": [
      "El audio se llama common_voice_es_19148134.mp3.npy y tiene un largo de 2.016\n"
     ]
    }
   ],
   "source": [
    "#Veo cuál es\n",
    "os.chdir(r'C:\\Users\\maxia\\Desktop\\Facultad\\Labo de acústica\\Codigo\\audios')\n",
    "for t in to_drop:\n",
    "    data = np.load(audios_name[t])\n",
    "    print(f'El audio se llama {audios_name[t]} y tiene un largo de {len(data)/16000}')"
   ]
  },
  {
   "cell_type": "code",
   "execution_count": 3,
   "metadata": {},
   "outputs": [
    {
     "output_type": "stream",
     "name": "stdout",
     "text": [
      "Cargando...\n",
      "Se cargaron 100 audios\n",
      "Se cargaron 200 audios\n",
      "Se cargaron 300 audios\n",
      "Se cargaron 400 audios\n",
      "Se cargaron 500 audios\n",
      "Se cargaron 600 audios\n",
      "Se cargaron 700 audios\n",
      "Se cargaron 800 audios\n",
      "Se cargaron 900 audios\n",
      "Se cargaron 1000 audios\n",
      "Se cargaron 1100 audios\n",
      "Se cargaron 1200 audios\n",
      "Se cargaron 1300 audios\n",
      "Se cargaron 1400 audios\n",
      "Se cargaron 1500 audios\n",
      "Se cargaron 1600 audios\n",
      "Se cargaron 1700 audios\n",
      "Se cargaron 1800 audios\n",
      "Se cargaron 1900 audios\n",
      "Se cargaron 2000 audios\n",
      "Se cargaron 2100 audios\n",
      "Se cargaron 2200 audios\n",
      "Se cargaron 2300 audios\n",
      "Se cargaron 2400 audios\n",
      "Se cargaron 2500 audios\n",
      "Se cargaron 2600 audios\n",
      "Se cargaron 2700 audios\n",
      "Se cargaron 2800 audios\n",
      "Se cargaron 2900 audios\n",
      "Se cargaron 3000 audios\n",
      "Se cargaron 3100 audios\n",
      "Se cargaron 3200 audios\n",
      "Se cargaron 3300 audios\n",
      "Se cargaron 3400 audios\n",
      "Se cargaron 3500 audios\n",
      "Se cargaron 3600 audios\n",
      "Se cargaron 3700 audios\n",
      "Se cargaron 3800 audios\n",
      "Se cargaron 3900 audios\n",
      "Se cargaron 4000 audios\n",
      "Se cargaron 4100 audios\n",
      "Se cargaron 4200 audios\n",
      "Se cargaron 4300 audios\n",
      "Se cargaron 4400 audios\n",
      "Se cargaron 4500 audios\n",
      "Se cargaron 4600 audios\n",
      "Se cargaron 4700 audios\n",
      "Se cargaron 4800 audios\n",
      "Se cargaron 4900 audios\n",
      "Se cargaron 5000 audios\n",
      "Se cargaron 5100 audios\n",
      "Se cargaron 5200 audios\n",
      "Se cargaron 5300 audios\n",
      "Se cargaron 5400 audios\n",
      "Se cargaron 5500 audios\n",
      "Se cargaron 5600 audios\n",
      "Se cargaron 5700 audios\n",
      "Se cargaron 5800 audios\n",
      "Se cargaron 5900 audios\n",
      "Se cargaron 6000 audios\n",
      "Se cargaron 6100 audios\n",
      "Se cargaron 6200 audios\n",
      "Se cargaron 6300 audios\n",
      "Se cargaron 6400 audios\n",
      "Se cargaron 6500 audios\n",
      "Se cargaron 6600 audios\n",
      "Se cargaron 6700 audios\n",
      "Se cargaron 6800 audios\n",
      "Se cargaron 6900 audios\n",
      "Se cargaron 7000 audios\n",
      "Se cargaron 7100 audios\n",
      "Se cargaron 7200 audios\n",
      "Se cargaron 7300 audios\n",
      "Se cargaron 7400 audios\n",
      "Se cargaron 7500 audios\n",
      "Se cargaron 7600 audios\n",
      "Se cargaron 7700 audios\n",
      "Se cargaron 7800 audios\n",
      "Se cargaron 7900 audios\n",
      "Se cargaron 8000 audios\n",
      "Se cargaron 8100 audios\n",
      "Se cargaron 8200 audios\n",
      "Se cargaron 8300 audios\n",
      "Se cargaron 8400 audios\n",
      "Se cargaron 8500 audios\n",
      "Se cargaron 8600 audios\n",
      "Se cargaron 8700 audios\n",
      "Se cargaron 8800 audios\n",
      "Se cargaron 8900 audios\n",
      "Se cargaron 9000 audios\n",
      "Se cargaron 9100 audios\n",
      "Se cargaron 9200 audios\n",
      "Se cargaron 9300 audios\n",
      "Se cargaron 9400 audios\n",
      "Se cargaron 9500 audios\n",
      "Se cargaron 9600 audios\n",
      "Se cargaron 9700 audios\n",
      "Se cargaron 9800 audios\n",
      "Se cargaron 9900 audios\n",
      "Se cargaron 10000 audios\n",
      "Se cargaron 10100 audios\n",
      "Se cargaron 10200 audios\n",
      "Se cargaron 10300 audios\n",
      "Se cargaron 10400 audios\n",
      "Se cargaron 10500 audios\n",
      "Se cargaron 10600 audios\n",
      "Se cargaron 10700 audios\n",
      "Se cargaron 10800 audios\n",
      "Se cargaron 10900 audios\n",
      "Se cargaron 11000 audios\n",
      "Se cargaron 11100 audios\n",
      "Se cargaron 11200 audios\n",
      "Se cargaron 11300 audios\n",
      "Se cargaron 11400 audios\n",
      "Se cargaron 11500 audios\n",
      "Se cargaron 11600 audios\n",
      "Se cargaron 11700 audios\n",
      "Se cargaron 11800 audios\n",
      "Se cargaron 11900 audios\n",
      "Se cargaron 12000 audios\n",
      "Se cargaron 12100 audios\n",
      "Se cargaron 12200 audios\n",
      "Se cargaron 12300 audios\n",
      "Se cargaron 12400 audios\n",
      "Se cargaron 12500 audios\n",
      "Se cargaron 12600 audios\n",
      "Se cargaron 12700 audios\n",
      "Se cargaron 12800 audios\n",
      "Se cargaron 12900 audios\n",
      "Se cargaron 13000 audios\n",
      "Se cargaron 13100 audios\n",
      "Se cargaron 13200 audios\n",
      "Se cargaron 13300 audios\n",
      "Se cargaron 13400 audios\n",
      "Se cargaron 13500 audios\n",
      "Se cargaron 13600 audios\n",
      "Se cargaron 13700 audios\n",
      "Se cargaron 13800 audios\n",
      "Se cargaron 13900 audios\n",
      "Se cargaron 14000 audios\n",
      "Se cargaron 14100 audios\n",
      "Se cargaron 14200 audios\n",
      "Se cargaron 14300 audios\n",
      "Se cargaron 14400 audios\n",
      "Se cargaron 14500 audios\n",
      "Se cargaron 14600 audios\n",
      "Se cargaron 14700 audios\n",
      "Se cargaron 14800 audios\n",
      "Se cargaron 14900 audios\n",
      "Se cargaron 15000 audios\n",
      "Se cargaron 15100 audios\n",
      "Se cargaron 15200 audios\n",
      "Se cargaron 15300 audios\n",
      "Se cargaron 15400 audios\n",
      "Se cargaron 15500 audios\n",
      "Se cargaron 15600 audios\n",
      "Se cargaron 15700 audios\n",
      "Se cargaron 15800 audios\n",
      "Se cargaron 15900 audios\n",
      "Se cargaron 16000 audios\n",
      "Se cargaron 16100 audios\n",
      "Se cargaron 16200 audios\n",
      "Se cargaron 16300 audios\n",
      "Se cargaron 16400 audios\n",
      "Se cargaron 16500 audios\n",
      "Se cargaron 16600 audios\n",
      "Se cargaron 16700 audios\n",
      "Se cargaron 16800 audios\n",
      "Se cargaron 16900 audios\n",
      "Se cargaron 17000 audios\n",
      "Se cargaron 17100 audios\n",
      "Se cargaron 17200 audios\n",
      "Se cargaron 17300 audios\n",
      "Se cargaron 17400 audios\n",
      "Se cargaron 17500 audios\n",
      "Se cargaron 17600 audios\n",
      "Se cargaron 17700 audios\n",
      "Se cargaron 17800 audios\n",
      "Se cargaron 17900 audios\n",
      "Se cargaron 18000 audios\n",
      "Se cargaron 18100 audios\n",
      "Se cargaron 18200 audios\n",
      "Se cargaron 18300 audios\n",
      "Se cargaron 18400 audios\n",
      "Se cargaron 18500 audios\n",
      "Se cargaron 18600 audios\n",
      "Se cargaron 18700 audios\n",
      "Se cargaron 18800 audios\n",
      "Se cargaron 18900 audios\n",
      "Se cargaron 19000 audios\n",
      "Se cargaron 19100 audios\n",
      "Se cargaron 19200 audios\n",
      "Se cargaron 19300 audios\n",
      "Se cargaron 19400 audios\n",
      "Se cargaron 19500 audios\n",
      "Se cargaron 19600 audios\n",
      "Se cargaron 19700 audios\n",
      "Se cargaron 19800 audios\n",
      "Se cargaron 19900 audios\n",
      "El audio más corto ahora dura 2.064 segundos\n"
     ]
    }
   ],
   "source": [
    "#Reviso si ahora estoy dentro con todos los audios bien\n",
    "\n",
    "os.chdir(r'C:\\Users\\maxia\\Desktop\\Facultad\\Labo de acústica\\Codigo\\audios')\n",
    "\n",
    "new_duration = []\n",
    "\n",
    "audios_name_new = []\n",
    "\n",
    "for dir in glob.iglob('common*', recursive=True):\n",
    "    audios_name_new.append(dir)\n",
    "\n",
    "print('Cargando...')\n",
    "i=0\n",
    "for audio in audios_name_new:\n",
    "    i+=1\n",
    "    data = np.load(audio)\n",
    "    new_duration.append(len(data)/16000)\n",
    "    if (i%100)==0:\n",
    "        print(f'Se cargaron {i} audios')\n",
    "\n",
    "print(f'El audio más corto ahora dura {min(new_duration)} segundos')\n",
    "\n",
    "os.chdir(r'C:\\Users\\maxia\\Desktop\\Facultad\\Labo de acústica\\Codigo')\n",
    "np.save('new_duration.npy', new_duration)"
   ]
  },
  {
   "cell_type": "code",
   "execution_count": 4,
   "metadata": {},
   "outputs": [
    {
     "output_type": "stream",
     "name": "stdout",
     "text": [
      "Cargando...\n",
      "Se cargaron 100 audios\n",
      "Se cargaron 200 audios\n",
      "Se cargaron 300 audios\n",
      "Se cargaron 400 audios\n",
      "Se cargaron 500 audios\n",
      "Se cargaron 600 audios\n",
      "Se cargaron 700 audios\n",
      "Se cargaron 800 audios\n",
      "Se cargaron 900 audios\n",
      "Se cargaron 1000 audios\n",
      "Se cargaron 1100 audios\n",
      "Se cargaron 1200 audios\n",
      "Se cargaron 1300 audios\n",
      "Se cargaron 1400 audios\n",
      "Se cargaron 1500 audios\n",
      "Se cargaron 1600 audios\n",
      "Se cargaron 1700 audios\n",
      "Se cargaron 1800 audios\n",
      "Se cargaron 1900 audios\n",
      "Se cargaron 2000 audios\n",
      "Se cargaron 2100 audios\n",
      "Se cargaron 2200 audios\n",
      "Se cargaron 2300 audios\n",
      "Se cargaron 2400 audios\n",
      "Se cargaron 2500 audios\n",
      "Se cargaron 2600 audios\n",
      "Se cargaron 2700 audios\n",
      "Se cargaron 2800 audios\n",
      "Se cargaron 2900 audios\n",
      "Se cargaron 3000 audios\n",
      "Se cargaron 3100 audios\n",
      "Se cargaron 3200 audios\n",
      "Se cargaron 3300 audios\n",
      "Se cargaron 3400 audios\n",
      "Se cargaron 3500 audios\n",
      "Se cargaron 3600 audios\n",
      "Se cargaron 3700 audios\n",
      "Se cargaron 3800 audios\n",
      "Se cargaron 3900 audios\n",
      "Se cargaron 4000 audios\n",
      "Se cargaron 4100 audios\n",
      "Se cargaron 4200 audios\n",
      "Se cargaron 4300 audios\n",
      "Se cargaron 4400 audios\n",
      "Se cargaron 4500 audios\n",
      "Se cargaron 4600 audios\n",
      "Se cargaron 4700 audios\n",
      "Se cargaron 4800 audios\n",
      "Se cargaron 4900 audios\n",
      "Se cargaron 5000 audios\n",
      "Se cargaron 5100 audios\n",
      "Se cargaron 5200 audios\n",
      "Se cargaron 5300 audios\n",
      "Se cargaron 5400 audios\n",
      "Se cargaron 5500 audios\n",
      "Se cargaron 5600 audios\n",
      "Se cargaron 5700 audios\n",
      "Se cargaron 5800 audios\n",
      "Se cargaron 5900 audios\n",
      "Se cargaron 6000 audios\n",
      "Se cargaron 6100 audios\n",
      "Se cargaron 6200 audios\n",
      "Se cargaron 6300 audios\n",
      "Se cargaron 6400 audios\n",
      "Se cargaron 6500 audios\n",
      "Se cargaron 6600 audios\n",
      "Se cargaron 6700 audios\n",
      "Se cargaron 6800 audios\n",
      "Se cargaron 6900 audios\n",
      "Se cargaron 7000 audios\n",
      "Se cargaron 7100 audios\n",
      "Se cargaron 7200 audios\n",
      "Se cargaron 7300 audios\n",
      "Se cargaron 7400 audios\n",
      "Se cargaron 7500 audios\n",
      "Se cargaron 7600 audios\n",
      "Se cargaron 7700 audios\n",
      "Se cargaron 7800 audios\n",
      "Se cargaron 7900 audios\n",
      "Se cargaron 8000 audios\n",
      "Se cargaron 8100 audios\n",
      "Se cargaron 8200 audios\n",
      "Se cargaron 8300 audios\n",
      "Se cargaron 8400 audios\n",
      "Se cargaron 8500 audios\n",
      "Se cargaron 8600 audios\n",
      "Se cargaron 8700 audios\n",
      "Se cargaron 8800 audios\n",
      "Se cargaron 8900 audios\n",
      "Se cargaron 9000 audios\n",
      "Se cargaron 9100 audios\n",
      "Se cargaron 9200 audios\n",
      "Se cargaron 9300 audios\n",
      "Se cargaron 9400 audios\n",
      "Se cargaron 9500 audios\n",
      "Se cargaron 9600 audios\n",
      "Se cargaron 9700 audios\n",
      "Se cargaron 9800 audios\n",
      "Se cargaron 9900 audios\n",
      "Se cargaron 10000 audios\n",
      "Se cargaron 10100 audios\n",
      "Se cargaron 10200 audios\n",
      "Se cargaron 10300 audios\n",
      "Se cargaron 10400 audios\n",
      "Se cargaron 10500 audios\n",
      "Se cargaron 10600 audios\n",
      "Se cargaron 10700 audios\n",
      "Se cargaron 10800 audios\n",
      "Se cargaron 10900 audios\n",
      "Se cargaron 11000 audios\n",
      "Se cargaron 11100 audios\n",
      "Se cargaron 11200 audios\n",
      "Se cargaron 11300 audios\n",
      "Se cargaron 11400 audios\n",
      "Se cargaron 11500 audios\n",
      "Se cargaron 11600 audios\n",
      "Se cargaron 11700 audios\n",
      "Se cargaron 11800 audios\n",
      "Se cargaron 11900 audios\n",
      "Se cargaron 12000 audios\n",
      "Se cargaron 12100 audios\n",
      "Se cargaron 12200 audios\n",
      "Se cargaron 12300 audios\n",
      "Se cargaron 12400 audios\n",
      "Se cargaron 12500 audios\n",
      "Se cargaron 12600 audios\n",
      "Se cargaron 12700 audios\n",
      "Se cargaron 12800 audios\n",
      "Se cargaron 12900 audios\n",
      "Se cargaron 13000 audios\n",
      "Se cargaron 13100 audios\n",
      "Se cargaron 13200 audios\n",
      "Se cargaron 13300 audios\n",
      "Se cargaron 13400 audios\n",
      "Se cargaron 13500 audios\n",
      "Se cargaron 13600 audios\n",
      "Se cargaron 13700 audios\n",
      "Se cargaron 13800 audios\n",
      "Se cargaron 13900 audios\n",
      "Se cargaron 14000 audios\n",
      "Se cargaron 14100 audios\n",
      "Se cargaron 14200 audios\n",
      "Se cargaron 14300 audios\n",
      "Se cargaron 14400 audios\n",
      "Se cargaron 14500 audios\n",
      "Se cargaron 14600 audios\n",
      "Se cargaron 14700 audios\n",
      "Se cargaron 14800 audios\n",
      "Se cargaron 14900 audios\n",
      "Se cargaron 15000 audios\n",
      "Se cargaron 15100 audios\n",
      "Se cargaron 15200 audios\n",
      "Se cargaron 15300 audios\n",
      "Se cargaron 15400 audios\n",
      "Se cargaron 15500 audios\n",
      "Se cargaron 15600 audios\n",
      "Se cargaron 15700 audios\n",
      "Se cargaron 15800 audios\n",
      "Se cargaron 15900 audios\n",
      "Se cargaron 16000 audios\n",
      "Se cargaron 16100 audios\n",
      "Se cargaron 16200 audios\n",
      "Se cargaron 16300 audios\n",
      "Se cargaron 16400 audios\n",
      "Se cargaron 16500 audios\n",
      "Se cargaron 16600 audios\n",
      "Se cargaron 16700 audios\n",
      "Se cargaron 16800 audios\n",
      "Se cargaron 16900 audios\n",
      "Se cargaron 17000 audios\n",
      "Se cargaron 17100 audios\n",
      "Se cargaron 17200 audios\n",
      "Se cargaron 17300 audios\n",
      "Se cargaron 17400 audios\n",
      "Se cargaron 17500 audios\n",
      "Se cargaron 17600 audios\n",
      "Se cargaron 17700 audios\n",
      "Se cargaron 17800 audios\n",
      "Se cargaron 17900 audios\n",
      "Se cargaron 18000 audios\n",
      "Se cargaron 18100 audios\n",
      "Se cargaron 18200 audios\n",
      "Se cargaron 18300 audios\n",
      "Se cargaron 18400 audios\n",
      "Se cargaron 18500 audios\n",
      "Se cargaron 18600 audios\n",
      "Se cargaron 18700 audios\n",
      "Se cargaron 18800 audios\n",
      "Se cargaron 18900 audios\n",
      "Se cargaron 19000 audios\n",
      "Se cargaron 19100 audios\n",
      "Se cargaron 19200 audios\n",
      "Se cargaron 19300 audios\n",
      "Se cargaron 19400 audios\n",
      "Se cargaron 19500 audios\n",
      "Se cargaron 19600 audios\n",
      "Se cargaron 19700 audios\n",
      "Se cargaron 19800 audios\n",
      "Se cargaron 19900 audios\n",
      "Se cargaron 19986 audios\n",
      "Audios guardados en la carpeta audios_final\n"
     ]
    }
   ],
   "source": [
    "#Guardo todos los audios pero ahora en archivos de 32640 segundos cada uno\n",
    "\n",
    "new_duration = np.load('new_duration.npy')\n",
    "\n",
    "os.chdir(r'C:\\Users\\maxia\\Desktop\\Facultad\\Labo de acústica\\Codigo')\n",
    "sufijo=0\n",
    "i=-1\n",
    "cut = int(32640) #corte: SampleRate=16000 Hz, Quiero una resolución de 256 en la stft con n_fft=512 y hop_length=128 -> 32640 muestras\n",
    "\n",
    "print('Cargando...')\n",
    "\n",
    "for duracion in new_duration:\n",
    "    i+=1\n",
    "    new_name = audios_name_new[i].split('.mp3')[0]\n",
    "    n_cut = int((duracion*16000)/32640) #cantidad de cortes por audio, divido por 32640 para quedarme con esa cantidad de muestras\n",
    "    \n",
    "    audio = np.load('audios/'+audios_name_new[i])\n",
    "\n",
    "    for t in range(0,int(n_cut)):\n",
    "        sufijo+=1\n",
    "        save = audio[int(cut*t) : int(cut*(t+1))]\n",
    "        np.save('audios_final/' + new_name + '_' + str(sufijo), save)\n",
    "\n",
    "    sufijo=0\n",
    "\n",
    "    if ((i+1)%100) == 0:\n",
    "        print(f'Se cargaron {i+1} audios')\n",
    "\n",
    "print(f'Se cargaron {i+1} audios')\n",
    "print('Audios guardados en la carpeta audios_final')\n"
   ]
  },
  {
   "cell_type": "code",
   "execution_count": 5,
   "metadata": {},
   "outputs": [
    {
     "output_type": "stream",
     "name": "stdout",
     "text": [
      "32640\n"
     ]
    }
   ],
   "source": [
    "os.chdir(r'C:\\Users\\maxia\\Desktop\\Facultad\\Labo de acústica\\Codigo\\audios_final')\n",
    "prueba = np.load('common_voice_es_18307009_1.npy')\n",
    "print(len(prueba))"
   ]
  },
  {
   "cell_type": "code",
   "execution_count": 25,
   "metadata": {},
   "outputs": [
    {
     "output_type": "execute_result",
     "data": {
      "text/plain": [
       "'common_voice_es_18307009'"
      ]
     },
     "metadata": {},
     "execution_count": 25
    }
   ],
   "source": [
    "audios_name_new[0].split('.mp3')[0]"
   ]
  },
  {
   "cell_type": "code",
   "execution_count": null,
   "metadata": {},
   "outputs": [],
   "source": []
  }
 ]
}