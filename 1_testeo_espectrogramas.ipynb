{
 "metadata": {
  "language_info": {
   "codemirror_mode": {
    "name": "ipython",
    "version": 3
   },
   "file_extension": ".py",
   "mimetype": "text/x-python",
   "name": "python",
   "nbconvert_exporter": "python",
   "pygments_lexer": "ipython3",
   "version": "3.7.6"
  },
  "orig_nbformat": 2,
  "kernelspec": {
   "name": "python376jvsc74a57bd0ee7a232325ac95ee3d98a371bc362bede70c703da4bbdbf10a6b93590f207726",
   "display_name": "Python 3.7.6 64-bit ('base': conda)"
  }
 },
 "nbformat": 4,
 "nbformat_minor": 2,
 "cells": [
  {
   "source": [
    "# Pruebo valores de espectrogramas\n",
    "\n",
    "Configuro los espectrogramas para obtener una buena lectura de los audios después de entrenar!"
   ],
   "cell_type": "markdown",
   "metadata": {}
  },
  {
   "cell_type": "code",
   "execution_count": 1,
   "metadata": {},
   "outputs": [],
   "source": [
    "import os\n",
    "import numpy as np\n",
    "import librosa\n",
    "import soundfile as sf\n",
    "import sounddevice as sd\n",
    "import pickle\n",
    "import time\n",
    "\n",
    "os.chdir(r'C:\\Users\\maxia\\Desktop\\Facultad\\Labo de acústica\\Codigo')"
   ]
  },
  {
   "cell_type": "code",
   "execution_count": 2,
   "metadata": {},
   "outputs": [],
   "source": [
    "\"\"\"Primero, voy a necestiar una función que me convierta los espectrogramas a audios \"\"\"\n",
    "\n",
    "class MinMaxNormaliser:\n",
    "    \"\"\"MinMaxNormaliser applies min max normalisation to an array.\"\"\"\n",
    "\n",
    "    def __init__(self, min_val, max_val):\n",
    "        self.min = min_val\n",
    "        self.max = max_val\n",
    "\n",
    "    def normalise(self, array):\n",
    "        norm_array = (array - array.min()) / (array.max() - array.min())\n",
    "        norm_array = norm_array * (self.max - self.min) + self.min\n",
    "        return norm_array\n",
    "\n",
    "    def denormalise(self, norm_array, original_min, original_max):\n",
    "        array = (norm_array - self.min) / (self.max - self.min)\n",
    "        array = array * (original_max - original_min) + original_min\n",
    "        return array\n",
    "\n",
    "\n",
    "def convert_spectrograms_to_audio(spectrogram, min_max_value, hop_length, n_iter=32):\n",
    "    #Instantiate the normaliser\n",
    "    min_max_normaliser = MinMaxNormaliser(0, 1)\n",
    "\n",
    "    # reshape the log spectrogram\n",
    "    log_spectrogram = spectrogram[:, :]\n",
    "\n",
    "    # apply denormalisation\n",
    "    denorm_log_spec = min_max_normaliser.denormalise(log_spectrogram, \n",
    "                                                    min_max_value[\"min\"], \n",
    "                                                    min_max_value[\"max\"])\n",
    "    # log spectrogram -> spectrogram\n",
    "    spec = librosa.db_to_amplitude(denorm_log_spec)\n",
    "\n",
    "    # apply Griffin-Lim \n",
    "    signal = librosa.griffinlim(S=spec, n_iter=n_iter, hop_length=hop_length)\n",
    "\n",
    "    return signal"
   ]
  },
  {
   "cell_type": "code",
   "execution_count": 3,
   "metadata": {},
   "outputs": [],
   "source": [
    "#Cargo los valores de min_max.\n",
    "os.chdir(r'C:\\Users\\maxia\\Desktop\\Facultad\\Labo de acústica\\Codigo')\n",
    "\n",
    "with open('min_max_values_ruido.pkl', \"rb\") as f:\n",
    "    min_max_values_noise = pickle.load(f)\n",
    "\n",
    "with open('min_max_values.pkl', \"rb\") as f:\n",
    "    min_max_values_clean = pickle.load(f)\n",
    "\n"
   ]
  },
  {
   "cell_type": "code",
   "execution_count": 4,
   "metadata": {},
   "outputs": [
    {
     "output_type": "stream",
     "name": "stdout",
     "text": [
      "/Users/maxia/Desktop/Facultad/Labo de acústica/Codigo/stft_ruidoso/common_voice_es_18307009_1_SNR-0.npy.npy\n"
     ]
    }
   ],
   "source": [
    "#Para acceder a la llave de cada diccionario me las tengo que rebuscar un poco porque se guardó todo el path\n",
    "#en el nombre. Por ej:\n",
    "\n",
    "keys = []\n",
    "for key in min_max_values_noise.keys():\n",
    "  keys.append(key)\n",
    "\n",
    "print(keys[0])"
   ]
  },
  {
   "cell_type": "code",
   "execution_count": 5,
   "metadata": {},
   "outputs": [
    {
     "output_type": "stream",
     "name": "stdout",
     "text": [
      "/Users/maxia/Desktop/Facultad/Labo de acústica/Codigo/stft_ruidoso/common_voice_es_18307009_1.npy.npy\n"
     ]
    }
   ],
   "source": [
    "keys = []\n",
    "for key in min_max_values_clean.keys():\n",
    "  keys.append(key)\n",
    "\n",
    "print(keys[0])"
   ]
  },
  {
   "cell_type": "code",
   "execution_count": 6,
   "metadata": {},
   "outputs": [
    {
     "output_type": "execute_result",
     "data": {
      "text/plain": [
       "{'min': -43.276955792353384, 'max': 36.723044207646616}"
      ]
     },
     "metadata": {},
     "execution_count": 6
    }
   ],
   "source": [
    "#Por esto, para acceder a lo que hay dentro de cada llave tendría que hacer algo de este estilo:\n",
    "path_key = '/Users/maxia/Desktop/Facultad/Labo de acústica/Codigo/stft_ruidoso/'\n",
    "audio_ejemplo = 'common_voice_es_18307009_2_SNR-0.npy'\n",
    "\n",
    "\n",
    "min_max_values_noise[path_key + audio_ejemplo + '.npy']"
   ]
  },
  {
   "source": [
    "# Escucho los audios"
   ],
   "cell_type": "markdown",
   "metadata": {}
  },
  {
   "cell_type": "code",
   "execution_count": 8,
   "metadata": {},
   "outputs": [],
   "source": [
    "#Primero escucho el audio limpio\n",
    "sr = 16000\n",
    "audio = np.load('audios_final/common_voice_es_18307009_2.npy')\n",
    "\n",
    "clean_audio = audio/max(audio)\n",
    "\n",
    "sd.play(clean_audio, sr)"
   ]
  },
  {
   "cell_type": "code",
   "execution_count": 9,
   "metadata": {},
   "outputs": [],
   "source": [
    "#Ahora escucho la reconstrucción del espectrograma limpio\n",
    "path_key = '/Users/maxia/Desktop/Facultad/Labo de acústica/Codigo/stft_ruidoso/'\n",
    "audio_ejemplo = 'common_voice_es_18307009_2.npy'\n",
    "\n",
    "min_max = min_max_values_clean[path_key + audio_ejemplo + '.npy']\n",
    "spectrogram = np.load('stft/common_voice_es_18307009_2.npy.npy')\n",
    "\n",
    "sr = 16000\n",
    "audio = convert_spectrograms_to_audio(spectrogram, min_max, hop_length=128)\n",
    "\n",
    "clean_audio_stft = audio/max(audio)\n",
    "\n",
    "sd.play(clean_audio_stft, sr)\n"
   ]
  },
  {
   "cell_type": "code",
   "execution_count": 10,
   "metadata": {},
   "outputs": [],
   "source": [
    "#Ahora escucho el audio con ruido\n",
    "sr = 16000\n",
    "audio = np.load('audios_ruidosos/common_voice_es_18307009_2_SNR-0.npy')\n",
    "\n",
    "noisy_audio = audio/max(audio)\n",
    "\n",
    "sd.play(noisy_audio, sr)\n"
   ]
  },
  {
   "cell_type": "code",
   "execution_count": 11,
   "metadata": {},
   "outputs": [],
   "source": [
    "#Ahora escucho la reconstrucción del espectrograma con ruido\n",
    "path_key = '/Users/maxia/Desktop/Facultad/Labo de acústica/Codigo/stft_ruidoso/'\n",
    "audio_ejemplo = 'common_voice_es_18307009_2_SNR-0.npy'\n",
    "\n",
    "min_max = min_max_values_noise[path_key + audio_ejemplo + '.npy']\n",
    "spectrogram = np.load('stft_ruidoso/common_voice_es_18307009_2_SNR-0.npy.npy')\n",
    "\n",
    "sr = 16000\n",
    "audio = convert_spectrograms_to_audio(spectrogram, min_max, hop_length=128)\n",
    "\n",
    "noisy_audio_stft = audio/max(audio)\n",
    "\n",
    "sd.play(noisy_audio_stft, sr)\n"
   ]
  },
  {
   "source": [
    "Se puede ver que, claramente, no están bien elegidos los audios y tienen una reconstrucción mega robótica!!\n",
    "\n",
    "Ahora voy a tratar de armar STFT pero según lo recomendado para voz en la página de librosa.\n",
    "\n",
    "Según ellos:\n",
    "\n",
    "* El valor n_fft=2048 samples, y una frecuencia de sampleo de 22050 Hz, corresponden a una ventana de 93 milisegundos y se considera un valor óptimo para señales musicales\n",
    "* Por otro lado, para procesamiento de señales de voz, se recomienda un  n_fft=512, correspondientes a una ventana de 23 milisegundos a un samplerate de 22050 Hz. \n",
    "* Si se elige cualquier otro valor para n_fft debe ser necesariamente una potencia de dos para optimizar la velocidad del algoritmo de FFT\n",
    "\n",
    "Mi amigo valerio recomienda:\n",
    "\n",
    "* N_FFT = FRAME_SIZE = 512\n",
    "* HOP_LENGTH = 256\n",
    "* DURATION = 0.74  # in seconds\n",
    "* SAMPLE_RATE = 22050\n",
    "\n",
    "\n",
    "Veamos qué largo tendría que tener la señal si quiero un espectrograma de 256*256 si tengo esos valores de frame_size y esta nueva frecuencia de sampleo"
   ],
   "cell_type": "markdown",
   "metadata": {}
  },
  {
   "cell_type": "code",
   "execution_count": 3,
   "metadata": {},
   "outputs": [
    {
     "output_type": "stream",
     "name": "stdout",
     "text": [
      "Tengo un total de 65280 muestras\nEsto equivale a 2.9605442176870747 segundos\nEl espectrograma tiene una dimensión de: (256, 256)\n"
     ]
    }
   ],
   "source": [
    "sr = 22050\n",
    "samples = 65280\n",
    "data = np.zeros(samples)\n",
    "\n",
    "#Genero el espectrograma logarítmico:\n",
    "stft = librosa.stft(data,\n",
    "                    n_fft=512,\n",
    "                    hop_length=256)[:-1]\n",
    "\n",
    "spectrogram = np.abs(stft)\n",
    "log_spectrogram = librosa.amplitude_to_db(spectrogram)\n",
    "\n",
    "print(f'Tengo un total de {len(data)} muestras')\n",
    "print(f'Esto equivale a {len(data)/sr} segundos')\n",
    "print(f'El espectrograma tiene una dimensión de: {np.shape(log_spectrogram)}')"
   ]
  },
  {
   "cell_type": "code",
   "execution_count": 4,
   "metadata": {},
   "outputs": [
    {
     "output_type": "stream",
     "name": "stdout",
     "text": [
      "Tengo un total de 65024 muestras\nEsto equivale a 2.948934240362812 segundos\nEl espectrograma tiene una dimensión de: (512, 128)\n"
     ]
    }
   ],
   "source": [
    "#Hago otra prueba\n",
    "sr = 22050\n",
    "samples = 65024\n",
    "data = np.zeros(samples)\n",
    "\n",
    "#Genero el espectrograma logarítmico:\n",
    "stft = librosa.stft(data,\n",
    "                    n_fft=1024,\n",
    "                    hop_length=512)[:-1]\n",
    "\n",
    "spectrogram = np.abs(stft)\n",
    "log_spectrogram = librosa.amplitude_to_db(spectrogram)\n",
    "\n",
    "print(f'Tengo un total de {len(data)} muestras')\n",
    "print(f'Esto equivale a {len(data)/sr} segundos')\n",
    "print(f'El espectrograma tiene una dimensión de: {np.shape(log_spectrogram)}')"
   ]
  },
  {
   "cell_type": "code",
   "execution_count": 31,
   "metadata": {},
   "outputs": [],
   "source": [
    "#Con lo cual voy a necestiar un audio más largo, lo genero a partir de recortar uno que ya tengo\n",
    "\n",
    "audio_clean_1 = np.load('audios_final/common_voice_es_18307761_1.npy')\n",
    "audio_clean_2 = np.load('audios_final/common_voice_es_18307761_2.npy')\n",
    "audio_clean_3 = np.load('audios_final/common_voice_es_18307761_3.npy')\n",
    "audio_clean = np.array([*audio_clean_1, *audio_clean_2, *audio_clean_3]) #Concateno el audio \n",
    "audio_clean = librosa.resample(audio_clean, orig_sr=16000, target_sr=22050) #resampleo\n",
    "\n",
    "audio_noise_1 = np.load('audios_ruidosos/common_voice_es_18307761_1_SNR-0.npy')\n",
    "audio_noise_2 = np.load('audios_ruidosos/common_voice_es_18307761_2_SNR-0.npy')\n",
    "audio_noise_3 = np.load('audios_ruidosos/common_voice_es_18307761_3_SNR-0.npy')\n",
    "audio_noise = np.array([*audio_noise_1, *audio_noise_2, *audio_noise_3]) #Concateno el audio \n",
    "audio_noise = librosa.resample(audio_noise, orig_sr=16000, target_sr=22050) #resampleo"
   ]
  },
  {
   "cell_type": "code",
   "execution_count": 34,
   "metadata": {},
   "outputs": [
    {
     "output_type": "stream",
     "name": "stdout",
     "text": [
      "(256, 256)\n(256, 256)\n(256, 256)\n"
     ]
    }
   ],
   "source": [
    "#STFT audio limpio:\n",
    "audio_clean_test_1 = audio_clean[0:65280]\n",
    "stft_clean = librosa.stft(audio_clean_test_1, n_fft=512, hop_length=256)[:-1]\n",
    "print(np.shape(stft_clean))\n",
    "# Lo paso a valor absoluto y pierdo la fase\n",
    "spectrogram = np.abs(stft_clean)\n",
    "#Lo paso a logarítmico\n",
    "log_spectrogram = librosa.amplitude_to_db(spectrogram)\n",
    "print(np.shape(log_spectrogram))\n",
    "# Lo vuelvo a amplitud porque soy re loco y no me importa nada\n",
    "spec = librosa.db_to_amplitude(log_spectrogram)\n",
    "print(np.shape(spec))\n",
    "# Aplico Griffin-Lim y recupero la señal\n",
    "recovered_signal_1 = librosa.griffinlim(spec, hop_length=256, n_iter=64)\n",
    "\n",
    "sd.play(audio_clean_test_1, 22050)\n",
    "time.sleep(len(audio_clean_test_1)/22050)\n",
    "sd.play(recovered_signal_1, 22050)\n",
    "\n"
   ]
  },
  {
   "cell_type": "code",
   "execution_count": 36,
   "metadata": {},
   "outputs": [
    {
     "output_type": "stream",
     "name": "stdout",
     "text": [
      "(512, 128)\n(512, 128)\n(512, 128)\n"
     ]
    }
   ],
   "source": [
    "#STFT audio limpio:\n",
    "audio_clean_test_2 = audio_clean[0:65024]\n",
    "stft_clean = librosa.stft(audio_clean_test_2, n_fft=1024, hop_length=512)[:-1]\n",
    "print(np.shape(stft_clean))\n",
    "# Lo paso a valor absoluto y pierdo la fase\n",
    "spectrogram = np.abs(stft_clean)\n",
    "#Lo paso a logarítmico\n",
    "log_spectrogram = librosa.amplitude_to_db(spectrogram)\n",
    "print(np.shape(log_spectrogram))\n",
    "# Lo vuelvo a amplitud porque soy re loco y no me importa nada\n",
    "spec = librosa.db_to_amplitude(log_spectrogram)\n",
    "print(np.shape(spec))\n",
    "# Aplico Griffin-Lim y recupero la señal\n",
    "recovered_signal_2 = librosa.griffinlim(spec, hop_length=512)\n",
    "\n",
    "sd.play(audio_clean_test_2, 22050)\n",
    "time.sleep(len(audio_clean_test_2)/22050)\n",
    "sd.play(recovered_signal_2, 22050)"
   ]
  },
  {
   "cell_type": "code",
   "execution_count": 37,
   "metadata": {},
   "outputs": [
    {
     "output_type": "stream",
     "name": "stdout",
     "text": [
      "(128, 509)\n(128, 509)\n(128, 509)\n"
     ]
    }
   ],
   "source": [
    "#STFT audio limpio:\n",
    "audio_clean_test_3 = audio_clean[0:65024]\n",
    "stft_clean = librosa.stft(audio_clean_test_3, n_fft=256, hop_length=128)[:-1]\n",
    "print(np.shape(stft_clean))\n",
    "# Lo paso a valor absoluto y pierdo la fase\n",
    "spectrogram = np.abs(stft_clean)\n",
    "#Lo paso a logarítmico\n",
    "log_spectrogram = librosa.amplitude_to_db(spectrogram)\n",
    "print(np.shape(log_spectrogram))\n",
    "# Lo vuelvo a amplitud porque soy re loco y no me importa nada\n",
    "spec = librosa.db_to_amplitude(log_spectrogram)\n",
    "print(np.shape(spec))\n",
    "# Aplico Griffin-Lim y recupero la señal\n",
    "recovered_signal_3 = librosa.griffinlim(spec, hop_length=128)\n",
    "\n",
    "sd.play(audio_clean_test_3, 22050)\n",
    "time.sleep(len(audio_clean_test_2)/22050)\n",
    "sd.play(recovered_signal_3, 22050)"
   ]
  },
  {
   "cell_type": "code",
   "execution_count": 162,
   "metadata": {},
   "outputs": [],
   "source": [
    "sf.write('original.wav', audio_clean_test_1, 22050)\n",
    "sf.write('recovered_512.wav', recovered_signal_1, 22050)\n",
    "sf.write('recovered_1024.wav', recovered_signal_2, 22050)\n",
    "sf.write('recovered_256.wav', recovered_signal_3, 22050)"
   ]
  },
  {
   "cell_type": "code",
   "execution_count": null,
   "metadata": {},
   "outputs": [],
   "source": []
  }
 ]
}